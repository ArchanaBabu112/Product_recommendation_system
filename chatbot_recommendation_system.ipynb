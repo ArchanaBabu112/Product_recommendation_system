{
 "cells": [
  {
   "cell_type": "code",
   "execution_count": 1,
   "id": "4fe7dc40-c144-4acc-86c4-a7c7fe5811f3",
   "metadata": {},
   "outputs": [],
   "source": [
    "import argparse\n",
    "import time\n",
    "import sys\n",
    "import warnings\n",
    "import logging"
   ]
  },
  {
   "cell_type": "code",
   "execution_count": 2,
   "id": "af8eef8d-ce66-463f-90a0-a6fa597c80d3",
   "metadata": {},
   "outputs": [],
   "source": [
    "from sklearn.feature_extraction.text import TfidfVectorizer\n",
    "from sklearn.cluster import KMeans\n",
    "from sklearn.cluster import DBSCAN\n",
    "from sklearn.cluster import SpectralClustering\n",
    "from sklearn.metrics import silhouette_score\n",
    "from sklearn.decomposition import TruncatedSVD\n",
    "from joblib import dump, load\n",
    "import pandas as pd"
   ]
  },
  {
   "cell_type": "code",
   "execution_count": 3,
   "id": "c2f2413e-8b0c-43ff-b692-01a8f9648e90",
   "metadata": {},
   "outputs": [],
   "source": [
    "from sklearn.metrics.pairwise import cosine_similarity\n",
    "     "
   ]
  },
  {
   "cell_type": "code",
   "execution_count": 4,
   "id": "a0af1d40-b0ac-4fb0-9547-619b86106d42",
   "metadata": {},
   "outputs": [
    {
     "name": "stdout",
     "output_type": "stream",
     "text": [
      "Requirement already satisfied: tensorflow in c:\\users\\asus\\downloads\\desktop\\projects\\ecommerce_with_bert\\env_ecommerce\\lib\\site-packages (2.16.1)\n",
      "Requirement already satisfied: tensorflow-intel==2.16.1 in c:\\users\\asus\\downloads\\desktop\\projects\\ecommerce_with_bert\\env_ecommerce\\lib\\site-packages (from tensorflow) (2.16.1)\n",
      "Requirement already satisfied: absl-py>=1.0.0 in c:\\users\\asus\\downloads\\desktop\\projects\\ecommerce_with_bert\\env_ecommerce\\lib\\site-packages (from tensorflow-intel==2.16.1->tensorflow) (2.1.0)\n",
      "Requirement already satisfied: astunparse>=1.6.0 in c:\\users\\asus\\downloads\\desktop\\projects\\ecommerce_with_bert\\env_ecommerce\\lib\\site-packages (from tensorflow-intel==2.16.1->tensorflow) (1.6.3)\n",
      "Requirement already satisfied: flatbuffers>=23.5.26 in c:\\users\\asus\\downloads\\desktop\\projects\\ecommerce_with_bert\\env_ecommerce\\lib\\site-packages (from tensorflow-intel==2.16.1->tensorflow) (24.3.7)\n",
      "Requirement already satisfied: gast!=0.5.0,!=0.5.1,!=0.5.2,>=0.2.1 in c:\\users\\asus\\downloads\\desktop\\projects\\ecommerce_with_bert\\env_ecommerce\\lib\\site-packages (from tensorflow-intel==2.16.1->tensorflow) (0.5.4)\n",
      "Requirement already satisfied: google-pasta>=0.1.1 in c:\\users\\asus\\downloads\\desktop\\projects\\ecommerce_with_bert\\env_ecommerce\\lib\\site-packages (from tensorflow-intel==2.16.1->tensorflow) (0.2.0)\n",
      "Requirement already satisfied: h5py>=3.10.0 in c:\\users\\asus\\downloads\\desktop\\projects\\ecommerce_with_bert\\env_ecommerce\\lib\\site-packages (from tensorflow-intel==2.16.1->tensorflow) (3.10.0)\n",
      "Requirement already satisfied: libclang>=13.0.0 in c:\\users\\asus\\downloads\\desktop\\projects\\ecommerce_with_bert\\env_ecommerce\\lib\\site-packages (from tensorflow-intel==2.16.1->tensorflow) (18.1.1)\n",
      "Requirement already satisfied: ml-dtypes~=0.3.1 in c:\\users\\asus\\downloads\\desktop\\projects\\ecommerce_with_bert\\env_ecommerce\\lib\\site-packages (from tensorflow-intel==2.16.1->tensorflow) (0.3.2)\n",
      "Requirement already satisfied: opt-einsum>=2.3.2 in c:\\users\\asus\\downloads\\desktop\\projects\\ecommerce_with_bert\\env_ecommerce\\lib\\site-packages (from tensorflow-intel==2.16.1->tensorflow) (3.3.0)\n",
      "Requirement already satisfied: packaging in c:\\users\\asus\\downloads\\desktop\\projects\\ecommerce_with_bert\\env_ecommerce\\lib\\site-packages (from tensorflow-intel==2.16.1->tensorflow) (24.0)\n",
      "Requirement already satisfied: protobuf!=4.21.0,!=4.21.1,!=4.21.2,!=4.21.3,!=4.21.4,!=4.21.5,<5.0.0dev,>=3.20.3 in c:\\users\\asus\\downloads\\desktop\\projects\\ecommerce_with_bert\\env_ecommerce\\lib\\site-packages (from tensorflow-intel==2.16.1->tensorflow) (4.25.3)\n",
      "Requirement already satisfied: requests<3,>=2.21.0 in c:\\users\\asus\\downloads\\desktop\\projects\\ecommerce_with_bert\\env_ecommerce\\lib\\site-packages (from tensorflow-intel==2.16.1->tensorflow) (2.31.0)\n",
      "Requirement already satisfied: setuptools in c:\\users\\asus\\downloads\\desktop\\projects\\ecommerce_with_bert\\env_ecommerce\\lib\\site-packages (from tensorflow-intel==2.16.1->tensorflow) (65.5.0)\n",
      "Requirement already satisfied: six>=1.12.0 in c:\\users\\asus\\downloads\\desktop\\projects\\ecommerce_with_bert\\env_ecommerce\\lib\\site-packages (from tensorflow-intel==2.16.1->tensorflow) (1.16.0)\n",
      "Requirement already satisfied: termcolor>=1.1.0 in c:\\users\\asus\\downloads\\desktop\\projects\\ecommerce_with_bert\\env_ecommerce\\lib\\site-packages (from tensorflow-intel==2.16.1->tensorflow) (2.4.0)\n",
      "Requirement already satisfied: typing-extensions>=3.6.6 in c:\\users\\asus\\downloads\\desktop\\projects\\ecommerce_with_bert\\env_ecommerce\\lib\\site-packages (from tensorflow-intel==2.16.1->tensorflow) (4.10.0)\n",
      "Requirement already satisfied: wrapt>=1.11.0 in c:\\users\\asus\\downloads\\desktop\\projects\\ecommerce_with_bert\\env_ecommerce\\lib\\site-packages (from tensorflow-intel==2.16.1->tensorflow) (1.16.0)\n",
      "Requirement already satisfied: grpcio<2.0,>=1.24.3 in c:\\users\\asus\\downloads\\desktop\\projects\\ecommerce_with_bert\\env_ecommerce\\lib\\site-packages (from tensorflow-intel==2.16.1->tensorflow) (1.62.1)\n",
      "Requirement already satisfied: tensorboard<2.17,>=2.16 in c:\\users\\asus\\downloads\\desktop\\projects\\ecommerce_with_bert\\env_ecommerce\\lib\\site-packages (from tensorflow-intel==2.16.1->tensorflow) (2.16.2)\n",
      "Requirement already satisfied: keras>=3.0.0 in c:\\users\\asus\\downloads\\desktop\\projects\\ecommerce_with_bert\\env_ecommerce\\lib\\site-packages (from tensorflow-intel==2.16.1->tensorflow) (3.1.1)\n",
      "Requirement already satisfied: tensorflow-io-gcs-filesystem>=0.23.1 in c:\\users\\asus\\downloads\\desktop\\projects\\ecommerce_with_bert\\env_ecommerce\\lib\\site-packages (from tensorflow-intel==2.16.1->tensorflow) (0.31.0)\n",
      "Requirement already satisfied: numpy<2.0.0,>=1.23.5 in c:\\users\\asus\\downloads\\desktop\\projects\\ecommerce_with_bert\\env_ecommerce\\lib\\site-packages (from tensorflow-intel==2.16.1->tensorflow) (1.26.4)\n",
      "Requirement already satisfied: wheel<1.0,>=0.23.0 in c:\\users\\asus\\downloads\\desktop\\projects\\ecommerce_with_bert\\env_ecommerce\\lib\\site-packages (from astunparse>=1.6.0->tensorflow-intel==2.16.1->tensorflow) (0.43.0)\n",
      "Requirement already satisfied: rich in c:\\users\\asus\\downloads\\desktop\\projects\\ecommerce_with_bert\\env_ecommerce\\lib\\site-packages (from keras>=3.0.0->tensorflow-intel==2.16.1->tensorflow) (13.7.1)\n",
      "Requirement already satisfied: namex in c:\\users\\asus\\downloads\\desktop\\projects\\ecommerce_with_bert\\env_ecommerce\\lib\\site-packages (from keras>=3.0.0->tensorflow-intel==2.16.1->tensorflow) (0.0.7)\n",
      "Requirement already satisfied: optree in c:\\users\\asus\\downloads\\desktop\\projects\\ecommerce_with_bert\\env_ecommerce\\lib\\site-packages (from keras>=3.0.0->tensorflow-intel==2.16.1->tensorflow) (0.10.0)\n",
      "Requirement already satisfied: charset-normalizer<4,>=2 in c:\\users\\asus\\downloads\\desktop\\projects\\ecommerce_with_bert\\env_ecommerce\\lib\\site-packages (from requests<3,>=2.21.0->tensorflow-intel==2.16.1->tensorflow) (3.3.2)\n",
      "Requirement already satisfied: idna<4,>=2.5 in c:\\users\\asus\\downloads\\desktop\\projects\\ecommerce_with_bert\\env_ecommerce\\lib\\site-packages (from requests<3,>=2.21.0->tensorflow-intel==2.16.1->tensorflow) (3.6)\n",
      "Requirement already satisfied: urllib3<3,>=1.21.1 in c:\\users\\asus\\downloads\\desktop\\projects\\ecommerce_with_bert\\env_ecommerce\\lib\\site-packages (from requests<3,>=2.21.0->tensorflow-intel==2.16.1->tensorflow) (2.2.1)\n",
      "Requirement already satisfied: certifi>=2017.4.17 in c:\\users\\asus\\downloads\\desktop\\projects\\ecommerce_with_bert\\env_ecommerce\\lib\\site-packages (from requests<3,>=2.21.0->tensorflow-intel==2.16.1->tensorflow) (2024.2.2)\n",
      "Requirement already satisfied: markdown>=2.6.8 in c:\\users\\asus\\downloads\\desktop\\projects\\ecommerce_with_bert\\env_ecommerce\\lib\\site-packages (from tensorboard<2.17,>=2.16->tensorflow-intel==2.16.1->tensorflow) (3.6)\n",
      "Requirement already satisfied: tensorboard-data-server<0.8.0,>=0.7.0 in c:\\users\\asus\\downloads\\desktop\\projects\\ecommerce_with_bert\\env_ecommerce\\lib\\site-packages (from tensorboard<2.17,>=2.16->tensorflow-intel==2.16.1->tensorflow) (0.7.2)\n",
      "Requirement already satisfied: werkzeug>=1.0.1 in c:\\users\\asus\\downloads\\desktop\\projects\\ecommerce_with_bert\\env_ecommerce\\lib\\site-packages (from tensorboard<2.17,>=2.16->tensorflow-intel==2.16.1->tensorflow) (3.0.1)\n",
      "Requirement already satisfied: MarkupSafe>=2.1.1 in c:\\users\\asus\\downloads\\desktop\\projects\\ecommerce_with_bert\\env_ecommerce\\lib\\site-packages (from werkzeug>=1.0.1->tensorboard<2.17,>=2.16->tensorflow-intel==2.16.1->tensorflow) (2.1.5)\n",
      "Requirement already satisfied: markdown-it-py>=2.2.0 in c:\\users\\asus\\downloads\\desktop\\projects\\ecommerce_with_bert\\env_ecommerce\\lib\\site-packages (from rich->keras>=3.0.0->tensorflow-intel==2.16.1->tensorflow) (3.0.0)\n",
      "Requirement already satisfied: pygments<3.0.0,>=2.13.0 in c:\\users\\asus\\downloads\\desktop\\projects\\ecommerce_with_bert\\env_ecommerce\\lib\\site-packages (from rich->keras>=3.0.0->tensorflow-intel==2.16.1->tensorflow) (2.17.2)\n",
      "Requirement already satisfied: mdurl~=0.1 in c:\\users\\asus\\downloads\\desktop\\projects\\ecommerce_with_bert\\env_ecommerce\\lib\\site-packages (from markdown-it-py>=2.2.0->rich->keras>=3.0.0->tensorflow-intel==2.16.1->tensorflow) (0.1.2)\n"
     ]
    },
    {
     "name": "stderr",
     "output_type": "stream",
     "text": [
      "\n",
      "[notice] A new release of pip available: 22.3.1 -> 24.0\n",
      "[notice] To update, run: python.exe -m pip install --upgrade pip\n"
     ]
    }
   ],
   "source": [
    "!pip install tensorflow"
   ]
  },
  {
   "cell_type": "code",
   "execution_count": 5,
   "id": "3ed05648-339a-45a4-872c-8e4730929aaf",
   "metadata": {},
   "outputs": [
    {
     "name": "stdout",
     "output_type": "stream",
     "text": [
      "Requirement already satisfied: tensorflow_hub in c:\\users\\asus\\downloads\\desktop\\projects\\ecommerce_with_bert\\env_ecommerce\\lib\\site-packages (0.16.1)\n",
      "Requirement already satisfied: numpy>=1.12.0 in c:\\users\\asus\\downloads\\desktop\\projects\\ecommerce_with_bert\\env_ecommerce\\lib\\site-packages (from tensorflow_hub) (1.26.4)\n",
      "Requirement already satisfied: protobuf>=3.19.6 in c:\\users\\asus\\downloads\\desktop\\projects\\ecommerce_with_bert\\env_ecommerce\\lib\\site-packages (from tensorflow_hub) (4.25.3)\n",
      "Requirement already satisfied: tf-keras>=2.14.1 in c:\\users\\asus\\downloads\\desktop\\projects\\ecommerce_with_bert\\env_ecommerce\\lib\\site-packages (from tensorflow_hub) (2.16.0)\n",
      "Requirement already satisfied: tensorflow<2.17,>=2.16 in c:\\users\\asus\\downloads\\desktop\\projects\\ecommerce_with_bert\\env_ecommerce\\lib\\site-packages (from tf-keras>=2.14.1->tensorflow_hub) (2.16.1)\n",
      "Requirement already satisfied: tensorflow-intel==2.16.1 in c:\\users\\asus\\downloads\\desktop\\projects\\ecommerce_with_bert\\env_ecommerce\\lib\\site-packages (from tensorflow<2.17,>=2.16->tf-keras>=2.14.1->tensorflow_hub) (2.16.1)\n",
      "Requirement already satisfied: absl-py>=1.0.0 in c:\\users\\asus\\downloads\\desktop\\projects\\ecommerce_with_bert\\env_ecommerce\\lib\\site-packages (from tensorflow-intel==2.16.1->tensorflow<2.17,>=2.16->tf-keras>=2.14.1->tensorflow_hub) (2.1.0)\n",
      "Requirement already satisfied: astunparse>=1.6.0 in c:\\users\\asus\\downloads\\desktop\\projects\\ecommerce_with_bert\\env_ecommerce\\lib\\site-packages (from tensorflow-intel==2.16.1->tensorflow<2.17,>=2.16->tf-keras>=2.14.1->tensorflow_hub) (1.6.3)\n",
      "Requirement already satisfied: flatbuffers>=23.5.26 in c:\\users\\asus\\downloads\\desktop\\projects\\ecommerce_with_bert\\env_ecommerce\\lib\\site-packages (from tensorflow-intel==2.16.1->tensorflow<2.17,>=2.16->tf-keras>=2.14.1->tensorflow_hub) (24.3.7)\n",
      "Requirement already satisfied: gast!=0.5.0,!=0.5.1,!=0.5.2,>=0.2.1 in c:\\users\\asus\\downloads\\desktop\\projects\\ecommerce_with_bert\\env_ecommerce\\lib\\site-packages (from tensorflow-intel==2.16.1->tensorflow<2.17,>=2.16->tf-keras>=2.14.1->tensorflow_hub) (0.5.4)\n",
      "Requirement already satisfied: google-pasta>=0.1.1 in c:\\users\\asus\\downloads\\desktop\\projects\\ecommerce_with_bert\\env_ecommerce\\lib\\site-packages (from tensorflow-intel==2.16.1->tensorflow<2.17,>=2.16->tf-keras>=2.14.1->tensorflow_hub) (0.2.0)\n",
      "Requirement already satisfied: h5py>=3.10.0 in c:\\users\\asus\\downloads\\desktop\\projects\\ecommerce_with_bert\\env_ecommerce\\lib\\site-packages (from tensorflow-intel==2.16.1->tensorflow<2.17,>=2.16->tf-keras>=2.14.1->tensorflow_hub) (3.10.0)\n",
      "Requirement already satisfied: libclang>=13.0.0 in c:\\users\\asus\\downloads\\desktop\\projects\\ecommerce_with_bert\\env_ecommerce\\lib\\site-packages (from tensorflow-intel==2.16.1->tensorflow<2.17,>=2.16->tf-keras>=2.14.1->tensorflow_hub) (18.1.1)\n",
      "Requirement already satisfied: ml-dtypes~=0.3.1 in c:\\users\\asus\\downloads\\desktop\\projects\\ecommerce_with_bert\\env_ecommerce\\lib\\site-packages (from tensorflow-intel==2.16.1->tensorflow<2.17,>=2.16->tf-keras>=2.14.1->tensorflow_hub) (0.3.2)\n",
      "Requirement already satisfied: opt-einsum>=2.3.2 in c:\\users\\asus\\downloads\\desktop\\projects\\ecommerce_with_bert\\env_ecommerce\\lib\\site-packages (from tensorflow-intel==2.16.1->tensorflow<2.17,>=2.16->tf-keras>=2.14.1->tensorflow_hub) (3.3.0)\n",
      "Requirement already satisfied: packaging in c:\\users\\asus\\downloads\\desktop\\projects\\ecommerce_with_bert\\env_ecommerce\\lib\\site-packages (from tensorflow-intel==2.16.1->tensorflow<2.17,>=2.16->tf-keras>=2.14.1->tensorflow_hub) (24.0)\n",
      "Requirement already satisfied: requests<3,>=2.21.0 in c:\\users\\asus\\downloads\\desktop\\projects\\ecommerce_with_bert\\env_ecommerce\\lib\\site-packages (from tensorflow-intel==2.16.1->tensorflow<2.17,>=2.16->tf-keras>=2.14.1->tensorflow_hub) (2.31.0)\n",
      "Requirement already satisfied: setuptools in c:\\users\\asus\\downloads\\desktop\\projects\\ecommerce_with_bert\\env_ecommerce\\lib\\site-packages (from tensorflow-intel==2.16.1->tensorflow<2.17,>=2.16->tf-keras>=2.14.1->tensorflow_hub) (65.5.0)\n",
      "Requirement already satisfied: six>=1.12.0 in c:\\users\\asus\\downloads\\desktop\\projects\\ecommerce_with_bert\\env_ecommerce\\lib\\site-packages (from tensorflow-intel==2.16.1->tensorflow<2.17,>=2.16->tf-keras>=2.14.1->tensorflow_hub) (1.16.0)\n",
      "Requirement already satisfied: termcolor>=1.1.0 in c:\\users\\asus\\downloads\\desktop\\projects\\ecommerce_with_bert\\env_ecommerce\\lib\\site-packages (from tensorflow-intel==2.16.1->tensorflow<2.17,>=2.16->tf-keras>=2.14.1->tensorflow_hub) (2.4.0)\n",
      "Requirement already satisfied: typing-extensions>=3.6.6 in c:\\users\\asus\\downloads\\desktop\\projects\\ecommerce_with_bert\\env_ecommerce\\lib\\site-packages (from tensorflow-intel==2.16.1->tensorflow<2.17,>=2.16->tf-keras>=2.14.1->tensorflow_hub) (4.10.0)\n",
      "Requirement already satisfied: wrapt>=1.11.0 in c:\\users\\asus\\downloads\\desktop\\projects\\ecommerce_with_bert\\env_ecommerce\\lib\\site-packages (from tensorflow-intel==2.16.1->tensorflow<2.17,>=2.16->tf-keras>=2.14.1->tensorflow_hub) (1.16.0)\n",
      "Requirement already satisfied: grpcio<2.0,>=1.24.3 in c:\\users\\asus\\downloads\\desktop\\projects\\ecommerce_with_bert\\env_ecommerce\\lib\\site-packages (from tensorflow-intel==2.16.1->tensorflow<2.17,>=2.16->tf-keras>=2.14.1->tensorflow_hub) (1.62.1)\n",
      "Requirement already satisfied: tensorboard<2.17,>=2.16 in c:\\users\\asus\\downloads\\desktop\\projects\\ecommerce_with_bert\\env_ecommerce\\lib\\site-packages (from tensorflow-intel==2.16.1->tensorflow<2.17,>=2.16->tf-keras>=2.14.1->tensorflow_hub) (2.16.2)\n",
      "Requirement already satisfied: keras>=3.0.0 in c:\\users\\asus\\downloads\\desktop\\projects\\ecommerce_with_bert\\env_ecommerce\\lib\\site-packages (from tensorflow-intel==2.16.1->tensorflow<2.17,>=2.16->tf-keras>=2.14.1->tensorflow_hub) (3.1.1)\n",
      "Requirement already satisfied: tensorflow-io-gcs-filesystem>=0.23.1 in c:\\users\\asus\\downloads\\desktop\\projects\\ecommerce_with_bert\\env_ecommerce\\lib\\site-packages (from tensorflow-intel==2.16.1->tensorflow<2.17,>=2.16->tf-keras>=2.14.1->tensorflow_hub) (0.31.0)\n",
      "Requirement already satisfied: wheel<1.0,>=0.23.0 in c:\\users\\asus\\downloads\\desktop\\projects\\ecommerce_with_bert\\env_ecommerce\\lib\\site-packages (from astunparse>=1.6.0->tensorflow-intel==2.16.1->tensorflow<2.17,>=2.16->tf-keras>=2.14.1->tensorflow_hub) (0.43.0)\n",
      "Requirement already satisfied: rich in c:\\users\\asus\\downloads\\desktop\\projects\\ecommerce_with_bert\\env_ecommerce\\lib\\site-packages (from keras>=3.0.0->tensorflow-intel==2.16.1->tensorflow<2.17,>=2.16->tf-keras>=2.14.1->tensorflow_hub) (13.7.1)\n",
      "Requirement already satisfied: namex in c:\\users\\asus\\downloads\\desktop\\projects\\ecommerce_with_bert\\env_ecommerce\\lib\\site-packages (from keras>=3.0.0->tensorflow-intel==2.16.1->tensorflow<2.17,>=2.16->tf-keras>=2.14.1->tensorflow_hub) (0.0.7)\n",
      "Requirement already satisfied: optree in c:\\users\\asus\\downloads\\desktop\\projects\\ecommerce_with_bert\\env_ecommerce\\lib\\site-packages (from keras>=3.0.0->tensorflow-intel==2.16.1->tensorflow<2.17,>=2.16->tf-keras>=2.14.1->tensorflow_hub) (0.10.0)\n",
      "Requirement already satisfied: charset-normalizer<4,>=2 in c:\\users\\asus\\downloads\\desktop\\projects\\ecommerce_with_bert\\env_ecommerce\\lib\\site-packages (from requests<3,>=2.21.0->tensorflow-intel==2.16.1->tensorflow<2.17,>=2.16->tf-keras>=2.14.1->tensorflow_hub) (3.3.2)\n",
      "Requirement already satisfied: idna<4,>=2.5 in c:\\users\\asus\\downloads\\desktop\\projects\\ecommerce_with_bert\\env_ecommerce\\lib\\site-packages (from requests<3,>=2.21.0->tensorflow-intel==2.16.1->tensorflow<2.17,>=2.16->tf-keras>=2.14.1->tensorflow_hub) (3.6)\n",
      "Requirement already satisfied: urllib3<3,>=1.21.1 in c:\\users\\asus\\downloads\\desktop\\projects\\ecommerce_with_bert\\env_ecommerce\\lib\\site-packages (from requests<3,>=2.21.0->tensorflow-intel==2.16.1->tensorflow<2.17,>=2.16->tf-keras>=2.14.1->tensorflow_hub) (2.2.1)\n",
      "Requirement already satisfied: certifi>=2017.4.17 in c:\\users\\asus\\downloads\\desktop\\projects\\ecommerce_with_bert\\env_ecommerce\\lib\\site-packages (from requests<3,>=2.21.0->tensorflow-intel==2.16.1->tensorflow<2.17,>=2.16->tf-keras>=2.14.1->tensorflow_hub) (2024.2.2)\n",
      "Requirement already satisfied: markdown>=2.6.8 in c:\\users\\asus\\downloads\\desktop\\projects\\ecommerce_with_bert\\env_ecommerce\\lib\\site-packages (from tensorboard<2.17,>=2.16->tensorflow-intel==2.16.1->tensorflow<2.17,>=2.16->tf-keras>=2.14.1->tensorflow_hub) (3.6)\n",
      "Requirement already satisfied: tensorboard-data-server<0.8.0,>=0.7.0 in c:\\users\\asus\\downloads\\desktop\\projects\\ecommerce_with_bert\\env_ecommerce\\lib\\site-packages (from tensorboard<2.17,>=2.16->tensorflow-intel==2.16.1->tensorflow<2.17,>=2.16->tf-keras>=2.14.1->tensorflow_hub) (0.7.2)\n",
      "Requirement already satisfied: werkzeug>=1.0.1 in c:\\users\\asus\\downloads\\desktop\\projects\\ecommerce_with_bert\\env_ecommerce\\lib\\site-packages (from tensorboard<2.17,>=2.16->tensorflow-intel==2.16.1->tensorflow<2.17,>=2.16->tf-keras>=2.14.1->tensorflow_hub) (3.0.1)\n",
      "Requirement already satisfied: MarkupSafe>=2.1.1 in c:\\users\\asus\\downloads\\desktop\\projects\\ecommerce_with_bert\\env_ecommerce\\lib\\site-packages (from werkzeug>=1.0.1->tensorboard<2.17,>=2.16->tensorflow-intel==2.16.1->tensorflow<2.17,>=2.16->tf-keras>=2.14.1->tensorflow_hub) (2.1.5)\n",
      "Requirement already satisfied: markdown-it-py>=2.2.0 in c:\\users\\asus\\downloads\\desktop\\projects\\ecommerce_with_bert\\env_ecommerce\\lib\\site-packages (from rich->keras>=3.0.0->tensorflow-intel==2.16.1->tensorflow<2.17,>=2.16->tf-keras>=2.14.1->tensorflow_hub) (3.0.0)\n",
      "Requirement already satisfied: pygments<3.0.0,>=2.13.0 in c:\\users\\asus\\downloads\\desktop\\projects\\ecommerce_with_bert\\env_ecommerce\\lib\\site-packages (from rich->keras>=3.0.0->tensorflow-intel==2.16.1->tensorflow<2.17,>=2.16->tf-keras>=2.14.1->tensorflow_hub) (2.17.2)\n",
      "Requirement already satisfied: mdurl~=0.1 in c:\\users\\asus\\downloads\\desktop\\projects\\ecommerce_with_bert\\env_ecommerce\\lib\\site-packages (from markdown-it-py>=2.2.0->rich->keras>=3.0.0->tensorflow-intel==2.16.1->tensorflow<2.17,>=2.16->tf-keras>=2.14.1->tensorflow_hub) (0.1.2)\n"
     ]
    },
    {
     "name": "stderr",
     "output_type": "stream",
     "text": [
      "\n",
      "[notice] A new release of pip available: 22.3.1 -> 24.0\n",
      "[notice] To update, run: python.exe -m pip install --upgrade pip\n"
     ]
    }
   ],
   "source": [
    "!pip install tensorflow_hub\n"
   ]
  },
  {
   "cell_type": "code",
   "execution_count": 6,
   "id": "0683e1bf-eca4-4283-a575-f75292bcb536",
   "metadata": {},
   "outputs": [],
   "source": [
    "# python.exe -m pip install --upgrade pip"
   ]
  },
  {
   "cell_type": "code",
   "execution_count": 7,
   "id": "0e2cf3b0-eb7b-4a2d-a5fa-de7f378977e8",
   "metadata": {},
   "outputs": [
    {
     "name": "stderr",
     "output_type": "stream",
     "text": [
      "ERROR: Could not find a version that satisfies the requirement tensorflow_text (from versions: none)\n",
      "ERROR: No matching distribution found for tensorflow_text\n",
      "\n",
      "[notice] A new release of pip available: 22.3.1 -> 24.0\n",
      "[notice] To update, run: python.exe -m pip install --upgrade pip\n"
     ]
    }
   ],
   "source": [
    "!pip install tensorflow_text"
   ]
  },
  {
   "cell_type": "code",
   "execution_count": 9,
   "id": "9096cc7e-c638-409f-bf5d-6f50691295b2",
   "metadata": {},
   "outputs": [
    {
     "ename": "ModuleNotFoundError",
     "evalue": "No module named 'tensorflow_hub'",
     "output_type": "error",
     "traceback": [
      "\u001b[1;31m------------------------------------------------------------------------\u001b[0m",
      "\u001b[1;31mModuleNotFoundError\u001b[0m                    Traceback (most recent call last)",
      "Cell \u001b[1;32mIn[9], line 5\u001b[0m\n\u001b[0;32m      3\u001b[0m \u001b[38;5;28;01mimport\u001b[39;00m \u001b[38;5;21;01mpandas\u001b[39;00m \u001b[38;5;28;01mas\u001b[39;00m \u001b[38;5;21;01mpd\u001b[39;00m \u001b[38;5;66;03m# data processing, CSV file I/O (e.g. pd.read_csv)\u001b[39;00m\n\u001b[0;32m      4\u001b[0m \u001b[38;5;28;01mimport\u001b[39;00m \u001b[38;5;21;01mre\u001b[39;00m\n\u001b[1;32m----> 5\u001b[0m \u001b[38;5;28;01mimport\u001b[39;00m \u001b[38;5;21;01mtensorflow_hub\u001b[39;00m \u001b[38;5;28;01mas\u001b[39;00m \u001b[38;5;21;01mhub\u001b[39;00m\n\u001b[0;32m      6\u001b[0m get_ipython()\u001b[38;5;241m.\u001b[39msystem(\u001b[38;5;124m'\u001b[39m\u001b[38;5;124mpip install tensorflow-gpu\u001b[39m\u001b[38;5;124m'\u001b[39m)\n\u001b[0;32m      7\u001b[0m \u001b[38;5;28;01mimport\u001b[39;00m \u001b[38;5;21;01mtensorflow\u001b[39;00m \u001b[38;5;28;01mas\u001b[39;00m \u001b[38;5;21;01mtf\u001b[39;00m\n",
      "\u001b[1;31mModuleNotFoundError\u001b[0m: No module named 'tensorflow_hub'"
     ]
    }
   ],
   "source": [
    "#!pip install tensorflow_text\n",
    "import numpy as np # linear algebra\n",
    "import pandas as pd # data processing, CSV file I/O (e.g. pd.read_csv)\n",
    "import re\n",
    "#import tensorflow_hub as hub\n",
    "!pip install tensorflow-gpu\n",
    "import tensorflow as tf\n",
    "from tensorflow import keras\n",
    "#import tensorflow_text\n",
    "import sklearn.metrics as metrics\n"
   ]
  },
  {
   "cell_type": "code",
   "execution_count": null,
   "id": "0915c50e-a2ab-4425-9c8a-46c935f96078",
   "metadata": {},
   "outputs": [],
   "source": [
    "!pip install tensorflow_hub\n"
   ]
  },
  {
   "cell_type": "code",
   "execution_count": null,
   "id": "a62461ae-46f2-4dc6-b7a1-cec1779797f0",
   "metadata": {},
   "outputs": [],
   "source": [
    "pip install --upgrade pip\n"
   ]
  },
  {
   "cell_type": "code",
   "execution_count": 161,
   "id": "38669f9c-6e19-474d-a978-a3bf8ba8ef6d",
   "metadata": {},
   "outputs": [
    {
     "data": {
      "text/html": [
       "<div>\n",
       "<style scoped>\n",
       "    .dataframe tbody tr th:only-of-type {\n",
       "        vertical-align: middle;\n",
       "    }\n",
       "\n",
       "    .dataframe tbody tr th {\n",
       "        vertical-align: top;\n",
       "    }\n",
       "\n",
       "    .dataframe thead th {\n",
       "        text-align: right;\n",
       "    }\n",
       "</style>\n",
       "<table border=\"1\" class=\"dataframe\">\n",
       "  <thead>\n",
       "    <tr style=\"text-align: right;\">\n",
       "      <th></th>\n",
       "      <th>Unnamed: 0</th>\n",
       "      <th>Title</th>\n",
       "      <th>Rating</th>\n",
       "      <th>Link</th>\n",
       "      <th>Image</th>\n",
       "      <th>Size</th>\n",
       "      <th>Occasion</th>\n",
       "      <th>color</th>\n",
       "      <th>Rate</th>\n",
       "    </tr>\n",
       "  </thead>\n",
       "  <tbody>\n",
       "    <tr>\n",
       "      <th>0</th>\n",
       "      <td>0</td>\n",
       "      <td>dresstells women's formal dresses cocktail tea...</td>\n",
       "      <td>50.0</td>\n",
       "      <td>https://www.amazon.com/sspa/click?ie=UTF8&amp;spc=...</td>\n",
       "      <td>https://m.media-amazon.com/images/I/61tcI69u-C...</td>\n",
       "      <td>s,m,l,xl</td>\n",
       "      <td>any</td>\n",
       "      <td>all</td>\n",
       "      <td>3480</td>\n",
       "    </tr>\n",
       "    <tr>\n",
       "      <th>1</th>\n",
       "      <td>1</td>\n",
       "      <td>dresstells dress with chiffon overlay cape, 20...</td>\n",
       "      <td>1002.0</td>\n",
       "      <td>https://www.amazon.com/DRESSTELLS-Dresses-Wedd...</td>\n",
       "      <td>https://m.media-amazon.com/images/I/61kTmUZqYW...</td>\n",
       "      <td>s,m,l,xl</td>\n",
       "      <td>any</td>\n",
       "      <td>all</td>\n",
       "      <td>3728</td>\n",
       "    </tr>\n",
       "    <tr>\n",
       "      <th>2</th>\n",
       "      <td>2</td>\n",
       "      <td>blencot womens casual short sleeve boho floral...</td>\n",
       "      <td>1011.0</td>\n",
       "      <td>https://www.amazon.com/BLENCOT-Printed-Evening...</td>\n",
       "      <td>https://m.media-amazon.com/images/I/61IVgEOpuB...</td>\n",
       "      <td>s,m,l,xl</td>\n",
       "      <td>any</td>\n",
       "      <td>all</td>\n",
       "      <td>4060</td>\n",
       "    </tr>\n",
       "    <tr>\n",
       "      <th>3</th>\n",
       "      <td>3</td>\n",
       "      <td>hanna nikole women's plus size chiffon ruffle ...</td>\n",
       "      <td>7896.0</td>\n",
       "      <td>https://www.amazon.com/Hanna-Nikole-Chiffon-Po...</td>\n",
       "      <td>https://m.media-amazon.com/images/I/51AKCj7rPk...</td>\n",
       "      <td>s,m,l,xl</td>\n",
       "      <td>any</td>\n",
       "      <td>all</td>\n",
       "      <td>3811</td>\n",
       "    </tr>\n",
       "    <tr>\n",
       "      <th>4</th>\n",
       "      <td>4</td>\n",
       "      <td>dresstells women's formal dresses cocktail tea...</td>\n",
       "      <td>50.0</td>\n",
       "      <td>https://www.amazon.com/sspa/click?ie=UTF8&amp;spc=...</td>\n",
       "      <td>https://m.media-amazon.com/images/I/61tcI69u-C...</td>\n",
       "      <td>s,m,l,xl</td>\n",
       "      <td>any</td>\n",
       "      <td>all</td>\n",
       "      <td>3480</td>\n",
       "    </tr>\n",
       "  </tbody>\n",
       "</table>\n",
       "</div>"
      ],
      "text/plain": [
       "   Unnamed: 0                                              Title  Rating  \\\n",
       "0           0  dresstells women's formal dresses cocktail tea...    50.0   \n",
       "1           1  dresstells dress with chiffon overlay cape, 20...  1002.0   \n",
       "2           2  blencot womens casual short sleeve boho floral...  1011.0   \n",
       "3           3  hanna nikole women's plus size chiffon ruffle ...  7896.0   \n",
       "4           4  dresstells women's formal dresses cocktail tea...    50.0   \n",
       "\n",
       "                                                Link  \\\n",
       "0  https://www.amazon.com/sspa/click?ie=UTF8&spc=...   \n",
       "1  https://www.amazon.com/DRESSTELLS-Dresses-Wedd...   \n",
       "2  https://www.amazon.com/BLENCOT-Printed-Evening...   \n",
       "3  https://www.amazon.com/Hanna-Nikole-Chiffon-Po...   \n",
       "4  https://www.amazon.com/sspa/click?ie=UTF8&spc=...   \n",
       "\n",
       "                                               Image      Size Occasion color  \\\n",
       "0  https://m.media-amazon.com/images/I/61tcI69u-C...  s,m,l,xl      any   all   \n",
       "1  https://m.media-amazon.com/images/I/61kTmUZqYW...  s,m,l,xl      any   all   \n",
       "2  https://m.media-amazon.com/images/I/61IVgEOpuB...  s,m,l,xl      any   all   \n",
       "3  https://m.media-amazon.com/images/I/51AKCj7rPk...  s,m,l,xl      any   all   \n",
       "4  https://m.media-amazon.com/images/I/61tcI69u-C...  s,m,l,xl      any   all   \n",
       "\n",
       "   Rate  \n",
       "0  3480  \n",
       "1  3728  \n",
       "2  4060  \n",
       "3  3811  \n",
       "4  3480  "
      ]
     },
     "execution_count": 161,
     "metadata": {},
     "output_type": "execute_result"
    }
   ],
   "source": [
    "df=pd.read_csv('df.csv')\n",
    "df.head(5)"
   ]
  },
  {
   "cell_type": "code",
   "execution_count": 162,
   "id": "ce156731-8c20-418a-9c20-e807f598ac0e",
   "metadata": {},
   "outputs": [
    {
     "data": {
      "text/plain": [
       "0"
      ]
     },
     "execution_count": 162,
     "metadata": {},
     "output_type": "execute_result"
    }
   ],
   "source": [
    "df.duplicated().sum()"
   ]
  },
  {
   "cell_type": "code",
   "execution_count": 163,
   "id": "5c534469-969e-4a1c-9096-d08019e37171",
   "metadata": {},
   "outputs": [
    {
     "data": {
      "text/plain": [
       "0       dresstells women s formal dresses cocktail tea...\n",
       "1       dresstells dress with chiffon overlay cape 202...\n",
       "2       blencot womens casual short sleeve boho floral...\n",
       "3       hanna nikole women s plus size chiffon ruffle ...\n",
       "4       dresstells women s formal dresses cocktail tea...\n",
       "                              ...                        \n",
       "1445    prinstory men s pajama set sleepwear pjs light...\n",
       "1446    bulliant mens ratchet belt leather adjustable ...\n",
       "1447    morwenveo men s linen pants casual long pants ...\n",
       "1448    hungson mens chinos slim fit stretch flat fron...\n",
       "1449    long skirts for women maxi boho skirt floral p...\n",
       "Name: Title, Length: 1450, dtype: object"
      ]
     },
     "execution_count": 163,
     "metadata": {},
     "output_type": "execute_result"
    }
   ],
   "source": [
    "df['Title'].apply(lambda x: re.sub('[^A-Za-z0-9]+',' ',x))"
   ]
  },
  {
   "cell_type": "code",
   "execution_count": 164,
   "id": "57bf2be7-cfd0-483a-ac05-2bcfd0fd780e",
   "metadata": {},
   "outputs": [
    {
     "data": {
      "text/plain": [
       "(1450, 9)"
      ]
     },
     "execution_count": 164,
     "metadata": {},
     "output_type": "execute_result"
    }
   ],
   "source": [
    "df.shape"
   ]
  },
  {
   "cell_type": "code",
   "execution_count": 165,
   "id": "ce8b258c-cf10-4709-a748-be7c3187cd1e",
   "metadata": {},
   "outputs": [
    {
     "data": {
      "text/plain": [
       "Unnamed: 0    0\n",
       "Title         0\n",
       "Rating        0\n",
       "Link          0\n",
       "Image         0\n",
       "Size          0\n",
       "Occasion      0\n",
       "color         0\n",
       "Rate          0\n",
       "dtype: int64"
      ]
     },
     "execution_count": 165,
     "metadata": {},
     "output_type": "execute_result"
    }
   ],
   "source": [
    "df.isna().sum()"
   ]
  },
  {
   "cell_type": "code",
   "execution_count": 166,
   "id": "fb6ec04f-76cc-4aa2-a95e-30e58538f861",
   "metadata": {},
   "outputs": [],
   "source": [
    "df.reset_index(inplace=True)\n"
   ]
  },
  {
   "cell_type": "code",
   "execution_count": 167,
   "id": "d7fed31d-67c3-4961-b29a-bb9a4ab834d2",
   "metadata": {},
   "outputs": [
    {
     "data": {
      "text/html": [
       "<div>\n",
       "<style scoped>\n",
       "    .dataframe tbody tr th:only-of-type {\n",
       "        vertical-align: middle;\n",
       "    }\n",
       "\n",
       "    .dataframe tbody tr th {\n",
       "        vertical-align: top;\n",
       "    }\n",
       "\n",
       "    .dataframe thead th {\n",
       "        text-align: right;\n",
       "    }\n",
       "</style>\n",
       "<table border=\"1\" class=\"dataframe\">\n",
       "  <thead>\n",
       "    <tr style=\"text-align: right;\">\n",
       "      <th></th>\n",
       "      <th>index</th>\n",
       "      <th>Unnamed: 0</th>\n",
       "      <th>Title</th>\n",
       "      <th>Rating</th>\n",
       "      <th>Link</th>\n",
       "      <th>Image</th>\n",
       "      <th>Size</th>\n",
       "      <th>Occasion</th>\n",
       "      <th>color</th>\n",
       "      <th>Rate</th>\n",
       "    </tr>\n",
       "  </thead>\n",
       "  <tbody>\n",
       "    <tr>\n",
       "      <th>0</th>\n",
       "      <td>0</td>\n",
       "      <td>0</td>\n",
       "      <td>dresstells women's formal dresses cocktail tea...</td>\n",
       "      <td>50.0</td>\n",
       "      <td>https://www.amazon.com/sspa/click?ie=UTF8&amp;spc=...</td>\n",
       "      <td>https://m.media-amazon.com/images/I/61tcI69u-C...</td>\n",
       "      <td>s,m,l,xl</td>\n",
       "      <td>any</td>\n",
       "      <td>all</td>\n",
       "      <td>3480</td>\n",
       "    </tr>\n",
       "    <tr>\n",
       "      <th>1</th>\n",
       "      <td>1</td>\n",
       "      <td>1</td>\n",
       "      <td>dresstells dress with chiffon overlay cape, 20...</td>\n",
       "      <td>1002.0</td>\n",
       "      <td>https://www.amazon.com/DRESSTELLS-Dresses-Wedd...</td>\n",
       "      <td>https://m.media-amazon.com/images/I/61kTmUZqYW...</td>\n",
       "      <td>s,m,l,xl</td>\n",
       "      <td>any</td>\n",
       "      <td>all</td>\n",
       "      <td>3728</td>\n",
       "    </tr>\n",
       "    <tr>\n",
       "      <th>2</th>\n",
       "      <td>2</td>\n",
       "      <td>2</td>\n",
       "      <td>blencot womens casual short sleeve boho floral...</td>\n",
       "      <td>1011.0</td>\n",
       "      <td>https://www.amazon.com/BLENCOT-Printed-Evening...</td>\n",
       "      <td>https://m.media-amazon.com/images/I/61IVgEOpuB...</td>\n",
       "      <td>s,m,l,xl</td>\n",
       "      <td>any</td>\n",
       "      <td>all</td>\n",
       "      <td>4060</td>\n",
       "    </tr>\n",
       "    <tr>\n",
       "      <th>3</th>\n",
       "      <td>3</td>\n",
       "      <td>3</td>\n",
       "      <td>hanna nikole women's plus size chiffon ruffle ...</td>\n",
       "      <td>7896.0</td>\n",
       "      <td>https://www.amazon.com/Hanna-Nikole-Chiffon-Po...</td>\n",
       "      <td>https://m.media-amazon.com/images/I/51AKCj7rPk...</td>\n",
       "      <td>s,m,l,xl</td>\n",
       "      <td>any</td>\n",
       "      <td>all</td>\n",
       "      <td>3811</td>\n",
       "    </tr>\n",
       "    <tr>\n",
       "      <th>4</th>\n",
       "      <td>4</td>\n",
       "      <td>4</td>\n",
       "      <td>dresstells women's formal dresses cocktail tea...</td>\n",
       "      <td>50.0</td>\n",
       "      <td>https://www.amazon.com/sspa/click?ie=UTF8&amp;spc=...</td>\n",
       "      <td>https://m.media-amazon.com/images/I/61tcI69u-C...</td>\n",
       "      <td>s,m,l,xl</td>\n",
       "      <td>any</td>\n",
       "      <td>all</td>\n",
       "      <td>3480</td>\n",
       "    </tr>\n",
       "  </tbody>\n",
       "</table>\n",
       "</div>"
      ],
      "text/plain": [
       "   index  Unnamed: 0                                              Title  \\\n",
       "0      0           0  dresstells women's formal dresses cocktail tea...   \n",
       "1      1           1  dresstells dress with chiffon overlay cape, 20...   \n",
       "2      2           2  blencot womens casual short sleeve boho floral...   \n",
       "3      3           3  hanna nikole women's plus size chiffon ruffle ...   \n",
       "4      4           4  dresstells women's formal dresses cocktail tea...   \n",
       "\n",
       "   Rating                                               Link  \\\n",
       "0    50.0  https://www.amazon.com/sspa/click?ie=UTF8&spc=...   \n",
       "1  1002.0  https://www.amazon.com/DRESSTELLS-Dresses-Wedd...   \n",
       "2  1011.0  https://www.amazon.com/BLENCOT-Printed-Evening...   \n",
       "3  7896.0  https://www.amazon.com/Hanna-Nikole-Chiffon-Po...   \n",
       "4    50.0  https://www.amazon.com/sspa/click?ie=UTF8&spc=...   \n",
       "\n",
       "                                               Image      Size Occasion color  \\\n",
       "0  https://m.media-amazon.com/images/I/61tcI69u-C...  s,m,l,xl      any   all   \n",
       "1  https://m.media-amazon.com/images/I/61kTmUZqYW...  s,m,l,xl      any   all   \n",
       "2  https://m.media-amazon.com/images/I/61IVgEOpuB...  s,m,l,xl      any   all   \n",
       "3  https://m.media-amazon.com/images/I/51AKCj7rPk...  s,m,l,xl      any   all   \n",
       "4  https://m.media-amazon.com/images/I/61tcI69u-C...  s,m,l,xl      any   all   \n",
       "\n",
       "   Rate  \n",
       "0  3480  \n",
       "1  3728  \n",
       "2  4060  \n",
       "3  3811  \n",
       "4  3480  "
      ]
     },
     "execution_count": 167,
     "metadata": {},
     "output_type": "execute_result"
    }
   ],
   "source": [
    "df.head(5)"
   ]
  },
  {
   "cell_type": "code",
   "execution_count": null,
   "id": "9fe40d72-c79e-4d03-a028-dc6b788e735b",
   "metadata": {},
   "outputs": [],
   "source": []
  },
  {
   "cell_type": "code",
   "execution_count": 168,
   "id": "525564b6-b337-42cc-a12a-66ca1ca835ed",
   "metadata": {},
   "outputs": [],
   "source": [
    "df.drop(columns=['Unnamed: 0','index'],axis=1,inplace=True)\n"
   ]
  },
  {
   "cell_type": "code",
   "execution_count": 169,
   "id": "83d92d7f-4021-46b1-80f1-405b3b4b2ced",
   "metadata": {},
   "outputs": [
    {
     "data": {
      "text/html": [
       "<div>\n",
       "<style scoped>\n",
       "    .dataframe tbody tr th:only-of-type {\n",
       "        vertical-align: middle;\n",
       "    }\n",
       "\n",
       "    .dataframe tbody tr th {\n",
       "        vertical-align: top;\n",
       "    }\n",
       "\n",
       "    .dataframe thead th {\n",
       "        text-align: right;\n",
       "    }\n",
       "</style>\n",
       "<table border=\"1\" class=\"dataframe\">\n",
       "  <thead>\n",
       "    <tr style=\"text-align: right;\">\n",
       "      <th></th>\n",
       "      <th>Title</th>\n",
       "      <th>Rating</th>\n",
       "      <th>Link</th>\n",
       "      <th>Image</th>\n",
       "      <th>Size</th>\n",
       "      <th>Occasion</th>\n",
       "      <th>color</th>\n",
       "      <th>Rate</th>\n",
       "    </tr>\n",
       "  </thead>\n",
       "  <tbody>\n",
       "    <tr>\n",
       "      <th>0</th>\n",
       "      <td>dresstells women's formal dresses cocktail tea...</td>\n",
       "      <td>50</td>\n",
       "      <td>https://www.amazon.com/sspa/click?ie=UTF8&amp;spc=...</td>\n",
       "      <td>https://m.media-amazon.com/images/I/61tcI69u-C...</td>\n",
       "      <td>s,m,l,xl</td>\n",
       "      <td>any</td>\n",
       "      <td>all</td>\n",
       "      <td>3480</td>\n",
       "    </tr>\n",
       "    <tr>\n",
       "      <th>1</th>\n",
       "      <td>dresstells dress with chiffon overlay cape, 20...</td>\n",
       "      <td>1002</td>\n",
       "      <td>https://www.amazon.com/DRESSTELLS-Dresses-Wedd...</td>\n",
       "      <td>https://m.media-amazon.com/images/I/61kTmUZqYW...</td>\n",
       "      <td>s,m,l,xl</td>\n",
       "      <td>any</td>\n",
       "      <td>all</td>\n",
       "      <td>3728</td>\n",
       "    </tr>\n",
       "    <tr>\n",
       "      <th>2</th>\n",
       "      <td>blencot womens casual short sleeve boho floral...</td>\n",
       "      <td>1011</td>\n",
       "      <td>https://www.amazon.com/BLENCOT-Printed-Evening...</td>\n",
       "      <td>https://m.media-amazon.com/images/I/61IVgEOpuB...</td>\n",
       "      <td>s,m,l,xl</td>\n",
       "      <td>any</td>\n",
       "      <td>all</td>\n",
       "      <td>4060</td>\n",
       "    </tr>\n",
       "  </tbody>\n",
       "</table>\n",
       "</div>"
      ],
      "text/plain": [
       "                                               Title  Rating  \\\n",
       "0  dresstells women's formal dresses cocktail tea...      50   \n",
       "1  dresstells dress with chiffon overlay cape, 20...    1002   \n",
       "2  blencot womens casual short sleeve boho floral...    1011   \n",
       "\n",
       "                                                Link  \\\n",
       "0  https://www.amazon.com/sspa/click?ie=UTF8&spc=...   \n",
       "1  https://www.amazon.com/DRESSTELLS-Dresses-Wedd...   \n",
       "2  https://www.amazon.com/BLENCOT-Printed-Evening...   \n",
       "\n",
       "                                               Image      Size Occasion color  \\\n",
       "0  https://m.media-amazon.com/images/I/61tcI69u-C...  s,m,l,xl      any   all   \n",
       "1  https://m.media-amazon.com/images/I/61kTmUZqYW...  s,m,l,xl      any   all   \n",
       "2  https://m.media-amazon.com/images/I/61IVgEOpuB...  s,m,l,xl      any   all   \n",
       "\n",
       "   Rate  \n",
       "0  3480  \n",
       "1  3728  \n",
       "2  4060  "
      ]
     },
     "execution_count": 169,
     "metadata": {},
     "output_type": "execute_result"
    }
   ],
   "source": [
    "df['Rating']=df['Rating'].astype(int)\n",
    "df.head(3)"
   ]
  },
  {
   "cell_type": "code",
   "execution_count": 170,
   "id": "28c90ff6-eb72-4444-878b-2d4b1949dfdc",
   "metadata": {},
   "outputs": [],
   "source": [
    "df.rename(columns={'Title':'title','Rating':'rating','Link':'link','Image':'image','Size':'size','Occasion':'occasion','Rate':'rate'},inplace=True)"
   ]
  },
  {
   "cell_type": "code",
   "execution_count": 171,
   "id": "71227bcd-311c-491f-9eb9-a65af77a7574",
   "metadata": {},
   "outputs": [
    {
     "data": {
      "text/plain": [
       "occasion\n",
       "any                          448\n",
       "wedding                      399\n",
       "birthday                     249\n",
       "all                          215\n",
       "wedding,festive occasions     61\n",
       "christain wedding             46\n",
       "bday                          32\n",
       "Name: count, dtype: int64"
      ]
     },
     "execution_count": 171,
     "metadata": {},
     "output_type": "execute_result"
    }
   ],
   "source": [
    "df['occasion'].value_counts()"
   ]
  },
  {
   "cell_type": "code",
   "execution_count": 172,
   "id": "bf851825-a9fa-4ee4-8e69-88e4768d22f2",
   "metadata": {},
   "outputs": [
    {
     "data": {
      "text/plain": [
       "title       0\n",
       "rating      0\n",
       "link        0\n",
       "image       0\n",
       "size        0\n",
       "occasion    0\n",
       "color       0\n",
       "rate        0\n",
       "dtype: int64"
      ]
     },
     "execution_count": 172,
     "metadata": {},
     "output_type": "execute_result"
    }
   ],
   "source": [
    "df.isna().sum()"
   ]
  },
  {
   "cell_type": "code",
   "execution_count": 173,
   "id": "f14bd114-dc87-494e-acdf-b185933e6b57",
   "metadata": {},
   "outputs": [
    {
     "data": {
      "text/plain": [
       "color\n",
       "black        575\n",
       "white        295\n",
       "red          240\n",
       "different    115\n",
       "all           76\n",
       "yellow        57\n",
       "many          35\n",
       "mixed         33\n",
       "golden        24\n",
       "Name: count, dtype: int64"
      ]
     },
     "execution_count": 173,
     "metadata": {},
     "output_type": "execute_result"
    }
   ],
   "source": [
    "df.color.value_counts()"
   ]
  },
  {
   "cell_type": "code",
   "execution_count": 174,
   "id": "b6a6e064-6c39-46c7-8c54-8ccd9997da52",
   "metadata": {},
   "outputs": [],
   "source": [
    "df['color'].replace({'many':'any','different':'any','all':'any'},inplace=True)"
   ]
  },
  {
   "cell_type": "code",
   "execution_count": 175,
   "id": "1495ce36-16ec-4b8c-bd6b-cd46a4a24d29",
   "metadata": {},
   "outputs": [
    {
     "data": {
      "text/plain": [
       "color\n",
       "black     575\n",
       "white     295\n",
       "red       240\n",
       "any       226\n",
       "yellow     57\n",
       "mixed      33\n",
       "golden     24\n",
       "Name: count, dtype: int64"
      ]
     },
     "execution_count": 175,
     "metadata": {},
     "output_type": "execute_result"
    }
   ],
   "source": [
    "df.color.value_counts()"
   ]
  },
  {
   "cell_type": "code",
   "execution_count": 176,
   "id": "87f3c59f-7425-48c3-a5d1-6330cbec47e6",
   "metadata": {},
   "outputs": [
    {
     "name": "stdout",
     "output_type": "stream",
     "text": [
      "                                                  title  rating  \\\n",
      "0     dresstells women's formal dresses cocktail tea...      50   \n",
      "1     dresstells dress with chiffon overlay cape, 20...    1002   \n",
      "2     blencot womens casual short sleeve boho floral...    1011   \n",
      "3     hanna nikole women's plus size chiffon ruffle ...    7896   \n",
      "4     dresstells women's formal dresses cocktail tea...      50   \n",
      "...                                                 ...     ...   \n",
      "1445  prinstory men's pajama set sleepwear pjs light...      67   \n",
      "1446  bulliant mens ratchet belt,leather adjustable ...    5487   \n",
      "1447  morwenveo men's linen pants casual long pants ...    3556   \n",
      "1448  hungson mens chinos slim fit stretch flat-fron...    1877   \n",
      "1449  long skirts for women maxi boho skirt floral p...   10728   \n",
      "\n",
      "                                                   link  \\\n",
      "0     https://www.amazon.com/sspa/click?ie=UTF8&spc=...   \n",
      "1     https://www.amazon.com/DRESSTELLS-Dresses-Wedd...   \n",
      "2     https://www.amazon.com/BLENCOT-Printed-Evening...   \n",
      "3     https://www.amazon.com/Hanna-Nikole-Chiffon-Po...   \n",
      "4     https://www.amazon.com/sspa/click?ie=UTF8&spc=...   \n",
      "...                                                 ...   \n",
      "1445  https://www.amazon.com/sspa/click?ie=UTF8&spc=...   \n",
      "1446  https://www.amazon.com/sspa/click?ie=UTF8&spc=...   \n",
      "1447  https://www.amazon.com/sspa/click?ie=UTF8&spc=...   \n",
      "1448  https://www.amazon.com/sspa/click?ie=UTF8&spc=...   \n",
      "1449  https://www.amazon.com/sspa/click?ie=UTF8&spc=...   \n",
      "\n",
      "                                                  image      size  \\\n",
      "0     https://m.media-amazon.com/images/I/61tcI69u-C...  s,m,l,xl   \n",
      "1     https://m.media-amazon.com/images/I/61kTmUZqYW...  s,m,l,xl   \n",
      "2     https://m.media-amazon.com/images/I/61IVgEOpuB...  s,m,l,xl   \n",
      "3     https://m.media-amazon.com/images/I/51AKCj7rPk...  s,m,l,xl   \n",
      "4     https://m.media-amazon.com/images/I/61tcI69u-C...  s,m,l,xl   \n",
      "...                                                 ...       ...   \n",
      "1445  https://m.media-amazon.com/images/I/51KJIPWvMn...  s,m,l,xl   \n",
      "1446  https://m.media-amazon.com/images/I/71l9EuW51I...  s,m,l,xl   \n",
      "1447  https://m.media-amazon.com/images/I/51oaRXnxnY...  s,m,l,xl   \n",
      "1448  https://m.media-amazon.com/images/I/41Hnx2ZktV...  s,m,l,xl   \n",
      "1449  https://m.media-amazon.com/images/I/91xZPjfbUF...  s,m,l,xl   \n",
      "\n",
      "                       occasion color  rate product_type  \n",
      "0                           any   any  3480      Western  \n",
      "1                           any   any  3728      Western  \n",
      "2                           any   any  4060      Western  \n",
      "3                           any   any  3811      Western  \n",
      "4                           any   any  3480      Western  \n",
      "...                         ...   ...   ...          ...  \n",
      "1445  wedding,festive occasions   any  1574      Western  \n",
      "1446  wedding,festive occasions   any  1077      Western  \n",
      "1447  wedding,festive occasions   any  2237       Casual  \n",
      "1448  wedding,festive occasions   any  2900      Western  \n",
      "1449  wedding,festive occasions   any  1822      Western  \n",
      "\n",
      "[1450 rows x 9 columns]\n"
     ]
    }
   ],
   "source": [
    "import pandas as pd\n",
    "\n",
    "# Assuming df is your DataFrame containing the 'title' column\n",
    "# data = {'title': ['Formal Dress for Wedding', 'Casual Summer Dress', 'Traditional Indian Saree', 'Ethnic Boho Dress']}\n",
    "# df = pd.DataFrame(data)\n",
    "\n",
    "# Define a function to categorize dress types\n",
    "def categorize_title(title):\n",
    "    title_lower = title.lower()\n",
    "    if 'a-line' in title_lower or'dress' in title_lower or 'square' in title_lower  or 'western' in title_lower or'midi' in title_lower or'minidress' in title_lower or'party dress' in title_lower or'gown' in title_lower or'maxi' in title_lower or'dokotoo' in title_lower or'square neck' in title_lower or'summer' in title_lower or'ruffle edge sleeves' in title_lower or 'shift' in title_lower or 'wrap' in title_lower or 'maxi' in title_lower or 'midi' in title_lower or 'bodycon' in title_lower or 'sheath' in title_lower or 'shirt' in title_lower or 'off-shoulder' in title_lower or 'peplum' in title_lower:\n",
    "        return 'Western'\n",
    "    elif 'wrap' in title_lower or 'shirt' in title_lower or 'off-shoulder' in title_lower or 'peplum' in title_lower or 'indo-western gown' in title_lower:\n",
    "        return 'Fusion'\n",
    "    elif ' kaftan' in title_lower or 'thobe' in title_lower or 'Kids' in title_lower or 'Disney' in title_lower or \"Kids' Mickey Minnie Mouse\"  in title_lower or \"Simple Joys by Carter's\" in title_lower or 'tunic' in title_lower:\n",
    "        return 'Children'\n",
    "    elif  'sari' in title_lower or 'traditioinal' in title_lower or 'saree' in title_lower or 'christian' in title_lower  or 'kurta' in title_lower or 'hindu' in title_lower or 'muslim' in title_lower  or 'indian' in title_lower  or 'chinese' in title_lower or 'african' in title_lower or 'karnataka' in title_lower or 'sarees' in title_lower  or 'lehenga' in title_lower or 'anarkali' in title_lower or 'salwar' in title_lower or 'churidar' in title_lower or 'ghagra' in title_lower or 'patiala' in title_lower:\n",
    "        return 'Traditional'\n",
    "    elif ' children' in title_lower or 'onesies' in title_lower or 'Caftans' in title_lower or 'Moroccan' in title_lower or 'dhoti' in title_lower or 'rompers' in title_lower or \"children's dresses\" in title_lower or \"children's\" in title_lower :\n",
    "        return 'Traditional/Ethnic'\n",
    "    elif 'kimono' in title_lower or 'hanbok' in title_lower or 'ethnic' in title_lower or 'banarasi' in title_lower or 'kufi hat' in title_lower or 'rhinestone' in title_lower or 'sexy' in title_lower  or 'cheongsam' in title_lower or 'club night mini' in title_lower or 'dirndl' in title_lower or 'dashiki' in title_lower or 'sari' in title_lower or 'boubou' in title_lower:\n",
    "        return 'Ethnic'\n",
    "    elif 'gown' in title_lower  or 'formal' in title_lower or 'galas' in title_lower  or 'tuxedos' in title_lower or 'gowns' in title_lower or 'wedding' in title_lower or 'red carpet' in title_lower or 'wedding dress (bridal gown)' in title_lower or 'cocktail' in title_lower:\n",
    "        return 'Formal'\n",
    "    elif 't-shirt' in title_lower or 'matching' in title_lower or 'casual' in title_lower or 'Sweatpants' in title_lower or 'Sweatpants' in title_lower or 'Hanes' in title_lower or 'sundress' in title_lower or 'matching set' in title_lower  or 'luau' in title_lower or 'hawaiian luau attire' in title_lower or 'hawaiian attire' in title_lower or 'luau attire' in title_lower or 'casual' in title_lower or 'maxi' in title_lower or 'shirt' in title_lower or 'denim' in title_lower or 'sweater' in title_lower:\n",
    "        return 'Casual'\n",
    "    elif 'swing' in title_lower or 'rockabilly' in title_lower or 'flapper' in title_lower or 'mod' in title_lower or 'boho' in title_lower:\n",
    "        return 'Vintage/Retro'\n",
    "    elif 'tennis' in title_lower or 'golf' in title_lower or 'running' in title_lower or 'gym' in title_lower  or 'sports' in title_lower:\n",
    "        return 'Sports'\n",
    "    elif 'princess' in title_lower or 'fairy' in title_lower or 'superhero' in title_lower or 'historical costume' in title_lower or 'character costume' in title_lower:\n",
    "        return 'Costume'\n",
    "    elif 'maternity maxi' in title_lower or 'pregnant' in title_lower or 'pregnancy' in title_lower or 'maternity' in title_lower or'maternity wrap' in title_lower or 'maternity bodycon' in title_lower or 'maternity shirt' in title_lower:\n",
    "        return 'Maternity'\n",
    "    elif ' casual blazer' in title_lower or 'casual shorts' in title_lower or 'lee' in title_lower or 'hawaiian luau' in title_lower:\n",
    "        return 'Western Casual'\n",
    "    elif ' business blazer' in title_lower or 'business' in title_lower or 'blazer' in title_lower or 'formal suit vest' in title_lower or 'formal vest' in title_lower or 'suit vest' in title_lower  or 'formal suit ' in title_lower:\n",
    "        return 'Western Formal/Business'\n",
    "    elif ' kaftan' in title_lower or 'thobe' in title_lower  or 'kurti' in title_lower or 'muslim' in title_lower or 'formal vest' in title_lower or 'african' in title_lower or 'thobe' in title_lower or 'tunic' in title_lower:\n",
    "        return 'Traditional/Ethnic'\n",
    "   \n",
    "    elif ' sleep' in title_lower or 'sleeping' in title_lower or 'nighty' in title_lower or 'sleep wear' in title_lower or \"sleep wears\" in title_lower:\n",
    "        return 'Night Wear'\n",
    "    elif 'Slim Fit' in title_lower or 'suit' in title_lower  or 'suits' in title_lower:\n",
    "        return 'Business'\n",
    "    elif 'Nike' in title_lower or 'Graphic Fleece Crew' in title_lower or 'Columbia' in title_lower or 'Offshore Short' in title_lower :\n",
    "        return 'Casual/sporty'\n",
    "    \n",
    "    elif ' Waist Trainer' in title_lower or 'Corset Cincher' in title_lower :\n",
    "        return 'Shape Wear'\n",
    "    else:\n",
    "        return 'Other'\n",
    "\n",
    "# Apply the categorization function to the 'title' column\n",
    "df['product_type'] = df['title'].apply(categorize_title)\n",
    "\n",
    "# Print the DataFrame with dress types\n",
    "print(df)\n"
   ]
  },
  {
   "cell_type": "code",
   "execution_count": 177,
   "id": "86ed7c71-6cbf-4fc4-82c1-b5cb6c4517f0",
   "metadata": {},
   "outputs": [
    {
     "data": {
      "text/html": [
       "<div>\n",
       "<style scoped>\n",
       "    .dataframe tbody tr th:only-of-type {\n",
       "        vertical-align: middle;\n",
       "    }\n",
       "\n",
       "    .dataframe tbody tr th {\n",
       "        vertical-align: top;\n",
       "    }\n",
       "\n",
       "    .dataframe thead th {\n",
       "        text-align: right;\n",
       "    }\n",
       "</style>\n",
       "<table border=\"1\" class=\"dataframe\">\n",
       "  <thead>\n",
       "    <tr style=\"text-align: right;\">\n",
       "      <th></th>\n",
       "      <th>title</th>\n",
       "      <th>rating</th>\n",
       "      <th>link</th>\n",
       "      <th>image</th>\n",
       "      <th>size</th>\n",
       "      <th>occasion</th>\n",
       "      <th>color</th>\n",
       "      <th>rate</th>\n",
       "      <th>product_type</th>\n",
       "    </tr>\n",
       "  </thead>\n",
       "  <tbody>\n",
       "    <tr>\n",
       "      <th>0</th>\n",
       "      <td>dresstells women's formal dresses cocktail tea...</td>\n",
       "      <td>50</td>\n",
       "      <td>https://www.amazon.com/sspa/click?ie=UTF8&amp;spc=...</td>\n",
       "      <td>https://m.media-amazon.com/images/I/61tcI69u-C...</td>\n",
       "      <td>s,m,l,xl</td>\n",
       "      <td>any</td>\n",
       "      <td>any</td>\n",
       "      <td>3480</td>\n",
       "      <td>Western</td>\n",
       "    </tr>\n",
       "    <tr>\n",
       "      <th>1</th>\n",
       "      <td>dresstells dress with chiffon overlay cape, 20...</td>\n",
       "      <td>1002</td>\n",
       "      <td>https://www.amazon.com/DRESSTELLS-Dresses-Wedd...</td>\n",
       "      <td>https://m.media-amazon.com/images/I/61kTmUZqYW...</td>\n",
       "      <td>s,m,l,xl</td>\n",
       "      <td>any</td>\n",
       "      <td>any</td>\n",
       "      <td>3728</td>\n",
       "      <td>Western</td>\n",
       "    </tr>\n",
       "    <tr>\n",
       "      <th>2</th>\n",
       "      <td>blencot womens casual short sleeve boho floral...</td>\n",
       "      <td>1011</td>\n",
       "      <td>https://www.amazon.com/BLENCOT-Printed-Evening...</td>\n",
       "      <td>https://m.media-amazon.com/images/I/61IVgEOpuB...</td>\n",
       "      <td>s,m,l,xl</td>\n",
       "      <td>any</td>\n",
       "      <td>any</td>\n",
       "      <td>4060</td>\n",
       "      <td>Western</td>\n",
       "    </tr>\n",
       "    <tr>\n",
       "      <th>3</th>\n",
       "      <td>hanna nikole women's plus size chiffon ruffle ...</td>\n",
       "      <td>7896</td>\n",
       "      <td>https://www.amazon.com/Hanna-Nikole-Chiffon-Po...</td>\n",
       "      <td>https://m.media-amazon.com/images/I/51AKCj7rPk...</td>\n",
       "      <td>s,m,l,xl</td>\n",
       "      <td>any</td>\n",
       "      <td>any</td>\n",
       "      <td>3811</td>\n",
       "      <td>Western</td>\n",
       "    </tr>\n",
       "    <tr>\n",
       "      <th>4</th>\n",
       "      <td>dresstells women's formal dresses cocktail tea...</td>\n",
       "      <td>50</td>\n",
       "      <td>https://www.amazon.com/sspa/click?ie=UTF8&amp;spc=...</td>\n",
       "      <td>https://m.media-amazon.com/images/I/61tcI69u-C...</td>\n",
       "      <td>s,m,l,xl</td>\n",
       "      <td>any</td>\n",
       "      <td>any</td>\n",
       "      <td>3480</td>\n",
       "      <td>Western</td>\n",
       "    </tr>\n",
       "  </tbody>\n",
       "</table>\n",
       "</div>"
      ],
      "text/plain": [
       "                                               title  rating  \\\n",
       "0  dresstells women's formal dresses cocktail tea...      50   \n",
       "1  dresstells dress with chiffon overlay cape, 20...    1002   \n",
       "2  blencot womens casual short sleeve boho floral...    1011   \n",
       "3  hanna nikole women's plus size chiffon ruffle ...    7896   \n",
       "4  dresstells women's formal dresses cocktail tea...      50   \n",
       "\n",
       "                                                link  \\\n",
       "0  https://www.amazon.com/sspa/click?ie=UTF8&spc=...   \n",
       "1  https://www.amazon.com/DRESSTELLS-Dresses-Wedd...   \n",
       "2  https://www.amazon.com/BLENCOT-Printed-Evening...   \n",
       "3  https://www.amazon.com/Hanna-Nikole-Chiffon-Po...   \n",
       "4  https://www.amazon.com/sspa/click?ie=UTF8&spc=...   \n",
       "\n",
       "                                               image      size occasion color  \\\n",
       "0  https://m.media-amazon.com/images/I/61tcI69u-C...  s,m,l,xl      any   any   \n",
       "1  https://m.media-amazon.com/images/I/61kTmUZqYW...  s,m,l,xl      any   any   \n",
       "2  https://m.media-amazon.com/images/I/61IVgEOpuB...  s,m,l,xl      any   any   \n",
       "3  https://m.media-amazon.com/images/I/51AKCj7rPk...  s,m,l,xl      any   any   \n",
       "4  https://m.media-amazon.com/images/I/61tcI69u-C...  s,m,l,xl      any   any   \n",
       "\n",
       "   rate product_type  \n",
       "0  3480      Western  \n",
       "1  3728      Western  \n",
       "2  4060      Western  \n",
       "3  3811      Western  \n",
       "4  3480      Western  "
      ]
     },
     "execution_count": 177,
     "metadata": {},
     "output_type": "execute_result"
    }
   ],
   "source": [
    "df.head()"
   ]
  },
  {
   "cell_type": "code",
   "execution_count": 178,
   "id": "44873c43-6263-4ccb-b350-3f6e6738536f",
   "metadata": {},
   "outputs": [
    {
     "data": {
      "text/plain": [
       "title           0\n",
       "rating          0\n",
       "link            0\n",
       "image           0\n",
       "size            0\n",
       "occasion        0\n",
       "color           0\n",
       "rate            0\n",
       "product_type    0\n",
       "dtype: int64"
      ]
     },
     "execution_count": 178,
     "metadata": {},
     "output_type": "execute_result"
    }
   ],
   "source": [
    "df.isna().sum()"
   ]
  },
  {
   "cell_type": "code",
   "execution_count": 179,
   "id": "7ee5f937-1b6d-4237-9f9f-23c2c1a16bb0",
   "metadata": {},
   "outputs": [],
   "source": [
    "df['occasion'].replace({'bday':'birthday','wedding,festive occasions':'festival','all':'function'},inplace=True)"
   ]
  },
  {
   "cell_type": "code",
   "execution_count": 180,
   "id": "3690650b-8dea-466b-bd64-439a74dc7c5d",
   "metadata": {},
   "outputs": [
    {
     "data": {
      "text/html": [
       "<div>\n",
       "<style scoped>\n",
       "    .dataframe tbody tr th:only-of-type {\n",
       "        vertical-align: middle;\n",
       "    }\n",
       "\n",
       "    .dataframe tbody tr th {\n",
       "        vertical-align: top;\n",
       "    }\n",
       "\n",
       "    .dataframe thead th {\n",
       "        text-align: right;\n",
       "    }\n",
       "</style>\n",
       "<table border=\"1\" class=\"dataframe\">\n",
       "  <thead>\n",
       "    <tr style=\"text-align: right;\">\n",
       "      <th></th>\n",
       "      <th>title</th>\n",
       "      <th>rating</th>\n",
       "      <th>link</th>\n",
       "      <th>image</th>\n",
       "      <th>size</th>\n",
       "      <th>occasion</th>\n",
       "      <th>color</th>\n",
       "      <th>rate</th>\n",
       "      <th>product_type</th>\n",
       "    </tr>\n",
       "  </thead>\n",
       "  <tbody>\n",
       "    <tr>\n",
       "      <th>0</th>\n",
       "      <td>dresstells women's formal dresses cocktail tea...</td>\n",
       "      <td>50</td>\n",
       "      <td>https://www.amazon.com/sspa/click?ie=UTF8&amp;spc=...</td>\n",
       "      <td>https://m.media-amazon.com/images/I/61tcI69u-C...</td>\n",
       "      <td>s,m,l,xl</td>\n",
       "      <td>any</td>\n",
       "      <td>any</td>\n",
       "      <td>3480</td>\n",
       "      <td>Western</td>\n",
       "    </tr>\n",
       "    <tr>\n",
       "      <th>1</th>\n",
       "      <td>dresstells dress with chiffon overlay cape, 20...</td>\n",
       "      <td>1002</td>\n",
       "      <td>https://www.amazon.com/DRESSTELLS-Dresses-Wedd...</td>\n",
       "      <td>https://m.media-amazon.com/images/I/61kTmUZqYW...</td>\n",
       "      <td>s,m,l,xl</td>\n",
       "      <td>any</td>\n",
       "      <td>any</td>\n",
       "      <td>3728</td>\n",
       "      <td>Western</td>\n",
       "    </tr>\n",
       "    <tr>\n",
       "      <th>2</th>\n",
       "      <td>blencot womens casual short sleeve boho floral...</td>\n",
       "      <td>1011</td>\n",
       "      <td>https://www.amazon.com/BLENCOT-Printed-Evening...</td>\n",
       "      <td>https://m.media-amazon.com/images/I/61IVgEOpuB...</td>\n",
       "      <td>s,m,l,xl</td>\n",
       "      <td>any</td>\n",
       "      <td>any</td>\n",
       "      <td>4060</td>\n",
       "      <td>Western</td>\n",
       "    </tr>\n",
       "  </tbody>\n",
       "</table>\n",
       "</div>"
      ],
      "text/plain": [
       "                                               title  rating  \\\n",
       "0  dresstells women's formal dresses cocktail tea...      50   \n",
       "1  dresstells dress with chiffon overlay cape, 20...    1002   \n",
       "2  blencot womens casual short sleeve boho floral...    1011   \n",
       "\n",
       "                                                link  \\\n",
       "0  https://www.amazon.com/sspa/click?ie=UTF8&spc=...   \n",
       "1  https://www.amazon.com/DRESSTELLS-Dresses-Wedd...   \n",
       "2  https://www.amazon.com/BLENCOT-Printed-Evening...   \n",
       "\n",
       "                                               image      size occasion color  \\\n",
       "0  https://m.media-amazon.com/images/I/61tcI69u-C...  s,m,l,xl      any   any   \n",
       "1  https://m.media-amazon.com/images/I/61kTmUZqYW...  s,m,l,xl      any   any   \n",
       "2  https://m.media-amazon.com/images/I/61IVgEOpuB...  s,m,l,xl      any   any   \n",
       "\n",
       "   rate product_type  \n",
       "0  3480      Western  \n",
       "1  3728      Western  \n",
       "2  4060      Western  "
      ]
     },
     "execution_count": 180,
     "metadata": {},
     "output_type": "execute_result"
    }
   ],
   "source": [
    "df.head(3)"
   ]
  },
  {
   "cell_type": "code",
   "execution_count": 181,
   "id": "2b01584d-6ac9-497e-92e8-a970fb21a9ae",
   "metadata": {},
   "outputs": [],
   "source": [
    "# Creating a new column 'combined' for embedding\n",
    "\n",
    "df['combined']=df.apply(lambda row: f\"{row['title']},{row['color']},{row['occasion']},{row['rate']},{row['product_type']},{row['size']},{row['rating']}\",axis=1)"
   ]
  },
  {
   "cell_type": "code",
   "execution_count": 182,
   "id": "9b5b7e40-7f2b-49fe-b893-7db1f9e8b704",
   "metadata": {},
   "outputs": [
    {
     "data": {
      "text/plain": [
       "title           0\n",
       "rating          0\n",
       "link            0\n",
       "image           0\n",
       "size            0\n",
       "occasion        0\n",
       "color           0\n",
       "rate            0\n",
       "product_type    0\n",
       "combined        0\n",
       "dtype: int64"
      ]
     },
     "execution_count": 182,
     "metadata": {},
     "output_type": "execute_result"
    }
   ],
   "source": [
    "df.isna().sum()"
   ]
  },
  {
   "cell_type": "code",
   "execution_count": 183,
   "id": "246b3b02-e8cb-4cfd-ac3f-cd1c914f834d",
   "metadata": {},
   "outputs": [
    {
     "data": {
      "text/plain": [
       "product_type\n",
       "Western               1124\n",
       "Traditional            153\n",
       "Traditional/Ethnic      87\n",
       "Children                40\n",
       "Western Casual          18\n",
       "Other                   11\n",
       "Casual                   8\n",
       "Vintage/Retro            5\n",
       "Ethnic                   3\n",
       "Sports                   1\n",
       "Name: count, dtype: int64"
      ]
     },
     "execution_count": 183,
     "metadata": {},
     "output_type": "execute_result"
    }
   ],
   "source": [
    "df.product_type.value_counts()"
   ]
  },
  {
   "cell_type": "code",
   "execution_count": 184,
   "id": "e1133170-a79a-4216-b028-77363fb43911",
   "metadata": {},
   "outputs": [
    {
     "data": {
      "text/html": [
       "<div>\n",
       "<style scoped>\n",
       "    .dataframe tbody tr th:only-of-type {\n",
       "        vertical-align: middle;\n",
       "    }\n",
       "\n",
       "    .dataframe tbody tr th {\n",
       "        vertical-align: top;\n",
       "    }\n",
       "\n",
       "    .dataframe thead th {\n",
       "        text-align: right;\n",
       "    }\n",
       "</style>\n",
       "<table border=\"1\" class=\"dataframe\">\n",
       "  <thead>\n",
       "    <tr style=\"text-align: right;\">\n",
       "      <th></th>\n",
       "      <th>title</th>\n",
       "      <th>rating</th>\n",
       "      <th>link</th>\n",
       "      <th>image</th>\n",
       "      <th>size</th>\n",
       "      <th>occasion</th>\n",
       "      <th>color</th>\n",
       "      <th>rate</th>\n",
       "      <th>product_type</th>\n",
       "      <th>combined</th>\n",
       "    </tr>\n",
       "  </thead>\n",
       "  <tbody>\n",
       "    <tr>\n",
       "      <th>0</th>\n",
       "      <td>dresstells women's formal dresses cocktail tea...</td>\n",
       "      <td>50</td>\n",
       "      <td>https://www.amazon.com/sspa/click?ie=UTF8&amp;spc=...</td>\n",
       "      <td>https://m.media-amazon.com/images/I/61tcI69u-C...</td>\n",
       "      <td>s,m,l,xl</td>\n",
       "      <td>any</td>\n",
       "      <td>any</td>\n",
       "      <td>3480</td>\n",
       "      <td>Western</td>\n",
       "      <td>dresstells women's formal dresses cocktail tea...</td>\n",
       "    </tr>\n",
       "    <tr>\n",
       "      <th>1</th>\n",
       "      <td>dresstells dress with chiffon overlay cape, 20...</td>\n",
       "      <td>1002</td>\n",
       "      <td>https://www.amazon.com/DRESSTELLS-Dresses-Wedd...</td>\n",
       "      <td>https://m.media-amazon.com/images/I/61kTmUZqYW...</td>\n",
       "      <td>s,m,l,xl</td>\n",
       "      <td>any</td>\n",
       "      <td>any</td>\n",
       "      <td>3728</td>\n",
       "      <td>Western</td>\n",
       "      <td>dresstells dress with chiffon overlay cape, 20...</td>\n",
       "    </tr>\n",
       "    <tr>\n",
       "      <th>2</th>\n",
       "      <td>blencot womens casual short sleeve boho floral...</td>\n",
       "      <td>1011</td>\n",
       "      <td>https://www.amazon.com/BLENCOT-Printed-Evening...</td>\n",
       "      <td>https://m.media-amazon.com/images/I/61IVgEOpuB...</td>\n",
       "      <td>s,m,l,xl</td>\n",
       "      <td>any</td>\n",
       "      <td>any</td>\n",
       "      <td>4060</td>\n",
       "      <td>Western</td>\n",
       "      <td>blencot womens casual short sleeve boho floral...</td>\n",
       "    </tr>\n",
       "  </tbody>\n",
       "</table>\n",
       "</div>"
      ],
      "text/plain": [
       "                                               title  rating  \\\n",
       "0  dresstells women's formal dresses cocktail tea...      50   \n",
       "1  dresstells dress with chiffon overlay cape, 20...    1002   \n",
       "2  blencot womens casual short sleeve boho floral...    1011   \n",
       "\n",
       "                                                link  \\\n",
       "0  https://www.amazon.com/sspa/click?ie=UTF8&spc=...   \n",
       "1  https://www.amazon.com/DRESSTELLS-Dresses-Wedd...   \n",
       "2  https://www.amazon.com/BLENCOT-Printed-Evening...   \n",
       "\n",
       "                                               image      size occasion color  \\\n",
       "0  https://m.media-amazon.com/images/I/61tcI69u-C...  s,m,l,xl      any   any   \n",
       "1  https://m.media-amazon.com/images/I/61kTmUZqYW...  s,m,l,xl      any   any   \n",
       "2  https://m.media-amazon.com/images/I/61IVgEOpuB...  s,m,l,xl      any   any   \n",
       "\n",
       "   rate product_type                                           combined  \n",
       "0  3480      Western  dresstells women's formal dresses cocktail tea...  \n",
       "1  3728      Western  dresstells dress with chiffon overlay cape, 20...  \n",
       "2  4060      Western  blencot womens casual short sleeve boho floral...  "
      ]
     },
     "execution_count": 184,
     "metadata": {},
     "output_type": "execute_result"
    }
   ],
   "source": [
    "df.head(3)"
   ]
  },
  {
   "cell_type": "code",
   "execution_count": null,
   "id": "19b07318-c653-4424-a314-a6e94852749b",
   "metadata": {},
   "outputs": [],
   "source": []
  },
  {
   "cell_type": "code",
   "execution_count": 185,
   "id": "1ddd10fc-2b7e-45ca-aaac-9f8b62855c3d",
   "metadata": {},
   "outputs": [],
   "source": [
    "import argparse\n",
    "import time\n",
    "import sys\n",
    "import warnings\n",
    "import logging"
   ]
  },
  {
   "cell_type": "code",
   "execution_count": 186,
   "id": "60373adb-576f-4de6-9e71-784a84dfd1a2",
   "metadata": {},
   "outputs": [],
   "source": [
    "from sklearn.feature_extraction.text import TfidfVectorizer\n",
    "from sklearn.cluster import KMeans\n",
    "from sklearn.cluster import DBSCAN\n",
    "from sklearn.cluster import SpectralClustering\n",
    "from sklearn.metrics import silhouette_score\n",
    "from sklearn.decomposition import TruncatedSVD\n",
    "from joblib import dump, load\n",
    "import pandas as pd"
   ]
  },
  {
   "cell_type": "code",
   "execution_count": 187,
   "id": "7e47f379-61a5-40be-b67a-daf7cba62048",
   "metadata": {},
   "outputs": [
    {
     "name": "stdout",
     "output_type": "stream",
     "text": [
      "Collecting tensorflow-gpu\n",
      "  Using cached tensorflow-gpu-2.12.0.tar.gz (2.6 kB)\n",
      "  Preparing metadata (setup.py): started\n",
      "  Preparing metadata (setup.py): finished with status 'done'\n",
      "Requirement already satisfied: python_version>\"3.7\" in c:\\users\\asus\\downloads\\desktop\\projects\\ecommerce_with_bert\\env_ecommerce\\lib\\site-packages (from tensorflow-gpu) (0.0.2)\n",
      "Building wheels for collected packages: tensorflow-gpu\n",
      "  Building wheel for tensorflow-gpu (setup.py): started\n",
      "  Building wheel for tensorflow-gpu (setup.py): finished with status 'error'\n",
      "  Running setup.py clean for tensorflow-gpu\n",
      "Failed to build tensorflow-gpu\n",
      "Installing collected packages: tensorflow-gpu\n",
      "  Running setup.py install for tensorflow-gpu: started\n",
      "  Running setup.py install for tensorflow-gpu: finished with status 'error'\n"
     ]
    },
    {
     "name": "stderr",
     "output_type": "stream",
     "text": [
      "  error: subprocess-exited-with-error\n",
      "  \n",
      "  python setup.py bdist_wheel did not run successfully.\n",
      "  exit code: 1\n",
      "  \n",
      "  [18 lines of output]\n",
      "  Traceback (most recent call last):\n",
      "    File \"<string>\", line 2, in <module>\n",
      "    File \"<pip-setuptools-caller>\", line 34, in <module>\n",
      "    File \"C:\\Users\\ASUS\\AppData\\Local\\Temp\\pip-install-ht9ystgw\\tensorflow-gpu_b51d22866154470386cfc0f45b248d3a\\setup.py\", line 37, in <module>\n",
      "      raise Exception(TF_REMOVAL_WARNING)\n",
      "  Exception:\n",
      "  \n",
      "  =========================================================\n",
      "  The \"tensorflow-gpu\" package has been removed!\n",
      "  \n",
      "  Please install \"tensorflow\" instead.\n",
      "  \n",
      "  Other than the name, the two packages have been identical\n",
      "  since TensorFlow 2.1, or roughly since Sep 2019. For more\n",
      "  information, see: pypi.org/project/tensorflow-gpu\n",
      "  =========================================================\n",
      "  \n",
      "  \n",
      "  [end of output]\n",
      "  \n",
      "  note: This error originates from a subprocess, and is likely not a problem with pip.\n",
      "  ERROR: Failed building wheel for tensorflow-gpu\n",
      "  error: subprocess-exited-with-error\n",
      "  \n",
      "  Running setup.py install for tensorflow-gpu did not run successfully.\n",
      "  exit code: 1\n",
      "  \n",
      "  [18 lines of output]\n",
      "  Traceback (most recent call last):\n",
      "    File \"<string>\", line 2, in <module>\n",
      "    File \"<pip-setuptools-caller>\", line 34, in <module>\n",
      "    File \"C:\\Users\\ASUS\\AppData\\Local\\Temp\\pip-install-ht9ystgw\\tensorflow-gpu_b51d22866154470386cfc0f45b248d3a\\setup.py\", line 37, in <module>\n",
      "      raise Exception(TF_REMOVAL_WARNING)\n",
      "  Exception:\n",
      "  \n",
      "  =========================================================\n",
      "  The \"tensorflow-gpu\" package has been removed!\n",
      "  \n",
      "  Please install \"tensorflow\" instead.\n",
      "  \n",
      "  Other than the name, the two packages have been identical\n",
      "  since TensorFlow 2.1, or roughly since Sep 2019. For more\n",
      "  information, see: pypi.org/project/tensorflow-gpu\n",
      "  =========================================================\n",
      "  \n",
      "  \n",
      "  [end of output]\n",
      "  \n",
      "  note: This error originates from a subprocess, and is likely not a problem with pip.\n",
      "error: legacy-install-failure\n",
      "\n",
      "Encountered error while trying to install package.\n",
      "\n",
      "tensorflow-gpu\n",
      "\n",
      "note: This is an issue with the package mentioned above, not pip.\n",
      "hint: See above for output from the failure.\n",
      "\n",
      "[notice] A new release of pip available: 22.3.1 -> 24.0\n",
      "[notice] To update, run: python.exe -m pip install --upgrade pip\n"
     ]
    }
   ],
   "source": [
    "\n",
    "#!pip install tensorflow_text\n",
    "import numpy as np # linear algebra\n",
    "import pandas as pd # data processing, CSV file I/O (e.g. pd.read_csv)\n",
    "import re\n",
    "#import tensorflow_hub as hub\n",
    "!pip install tensorflow-gpu\n",
    "import tensorflow as tf\n",
    "from tensorflow import keras\n",
    "#import tensorflow_text\n",
    "import sklearn.metrics as metrics"
   ]
  },
  {
   "cell_type": "code",
   "execution_count": 188,
   "id": "617c7502-f22d-4834-a780-40e5a27e7948",
   "metadata": {},
   "outputs": [],
   "source": [
    "from sklearn.metrics.pairwise import cosine_similarity"
   ]
  },
  {
   "cell_type": "code",
   "execution_count": 189,
   "id": "f5d89ca8-458f-4054-98a8-1da6d4651683",
   "metadata": {},
   "outputs": [
    {
     "name": "stdout",
     "output_type": "stream",
     "text": [
      "Requirement already satisfied: nltk in c:\\users\\asus\\downloads\\desktop\\projects\\ecommerce_with_bert\\env_ecommerce\\lib\\site-packages (3.8.1)\n",
      "Requirement already satisfied: click in c:\\users\\asus\\downloads\\desktop\\projects\\ecommerce_with_bert\\env_ecommerce\\lib\\site-packages (from nltk) (8.1.7)\n",
      "Requirement already satisfied: joblib in c:\\users\\asus\\downloads\\desktop\\projects\\ecommerce_with_bert\\env_ecommerce\\lib\\site-packages (from nltk) (1.3.2)\n",
      "Requirement already satisfied: regex>=2021.8.3 in c:\\users\\asus\\downloads\\desktop\\projects\\ecommerce_with_bert\\env_ecommerce\\lib\\site-packages (from nltk) (2023.12.25)\n",
      "Requirement already satisfied: tqdm in c:\\users\\asus\\downloads\\desktop\\projects\\ecommerce_with_bert\\env_ecommerce\\lib\\site-packages (from nltk) (4.66.2)\n",
      "Requirement already satisfied: colorama in c:\\users\\asus\\downloads\\desktop\\projects\\ecommerce_with_bert\\env_ecommerce\\lib\\site-packages (from click->nltk) (0.4.6)\n"
     ]
    },
    {
     "name": "stderr",
     "output_type": "stream",
     "text": [
      "\n",
      "[notice] A new release of pip available: 22.3.1 -> 24.0\n",
      "[notice] To update, run: python.exe -m pip install --upgrade pip\n",
      "[nltk_data] Downloading package averaged_perceptron_tagger to\n",
      "[nltk_data]     C:\\Users\\ASUS\\AppData\\Roaming\\nltk_data...\n",
      "[nltk_data]   Package averaged_perceptron_tagger is already up-to-\n",
      "[nltk_data]       date!\n"
     ]
    },
    {
     "data": {
      "text/plain": [
       "True"
      ]
     },
     "execution_count": 189,
     "metadata": {},
     "output_type": "execute_result"
    }
   ],
   "source": [
    "\n",
    "!pip install nltk\n",
    "import nltk\n",
    "from nltk.corpus import wordnet as wn\n",
    "from nltk.stem.wordnet import WordNetLemmatizer\n",
    "from nltk import word_tokenize, pos_tag\n",
    "from collections import defaultdict\n",
    "nltk.download('averaged_perceptron_tagger')"
   ]
  },
  {
   "cell_type": "code",
   "execution_count": 190,
   "id": "e52be0f7-e533-43a8-926d-fbc35c3776a7",
   "metadata": {},
   "outputs": [],
   "source": [
    "import json\n",
    "import ast\n",
    "#to filter the specifications column"
   ]
  },
  {
   "cell_type": "code",
   "execution_count": 191,
   "id": "30501984-9092-451c-9931-ec97c8058201",
   "metadata": {},
   "outputs": [
    {
     "name": "stdout",
     "output_type": "stream",
     "text": [
      "Requirement already satisfied: transformers in c:\\users\\asus\\downloads\\desktop\\projects\\ecommerce_with_bert\\env_ecommerce\\lib\\site-packages (4.39.1)\n",
      "Requirement already satisfied: filelock in c:\\users\\asus\\downloads\\desktop\\projects\\ecommerce_with_bert\\env_ecommerce\\lib\\site-packages (from transformers) (3.13.1)\n",
      "Requirement already satisfied: huggingface-hub<1.0,>=0.19.3 in c:\\users\\asus\\downloads\\desktop\\projects\\ecommerce_with_bert\\env_ecommerce\\lib\\site-packages (from transformers) (0.21.4)\n",
      "Requirement already satisfied: numpy>=1.17 in c:\\users\\asus\\downloads\\desktop\\projects\\ecommerce_with_bert\\env_ecommerce\\lib\\site-packages (from transformers) (1.26.4)\n",
      "Requirement already satisfied: packaging>=20.0 in c:\\users\\asus\\downloads\\desktop\\projects\\ecommerce_with_bert\\env_ecommerce\\lib\\site-packages (from transformers) (24.0)\n",
      "Requirement already satisfied: pyyaml>=5.1 in c:\\users\\asus\\downloads\\desktop\\projects\\ecommerce_with_bert\\env_ecommerce\\lib\\site-packages (from transformers) (6.0.1)\n",
      "Requirement already satisfied: regex!=2019.12.17 in c:\\users\\asus\\downloads\\desktop\\projects\\ecommerce_with_bert\\env_ecommerce\\lib\\site-packages (from transformers) (2023.12.25)\n",
      "Requirement already satisfied: requests in c:\\users\\asus\\downloads\\desktop\\projects\\ecommerce_with_bert\\env_ecommerce\\lib\\site-packages (from transformers) (2.31.0)\n",
      "Requirement already satisfied: tokenizers<0.19,>=0.14 in c:\\users\\asus\\downloads\\desktop\\projects\\ecommerce_with_bert\\env_ecommerce\\lib\\site-packages (from transformers) (0.15.2)\n",
      "Requirement already satisfied: safetensors>=0.4.1 in c:\\users\\asus\\downloads\\desktop\\projects\\ecommerce_with_bert\\env_ecommerce\\lib\\site-packages (from transformers) (0.4.2)\n",
      "Requirement already satisfied: tqdm>=4.27 in c:\\users\\asus\\downloads\\desktop\\projects\\ecommerce_with_bert\\env_ecommerce\\lib\\site-packages (from transformers) (4.66.2)\n",
      "Requirement already satisfied: fsspec>=2023.5.0 in c:\\users\\asus\\downloads\\desktop\\projects\\ecommerce_with_bert\\env_ecommerce\\lib\\site-packages (from huggingface-hub<1.0,>=0.19.3->transformers) (2024.3.1)\n",
      "Requirement already satisfied: typing-extensions>=3.7.4.3 in c:\\users\\asus\\downloads\\desktop\\projects\\ecommerce_with_bert\\env_ecommerce\\lib\\site-packages (from huggingface-hub<1.0,>=0.19.3->transformers) (4.10.0)\n",
      "Requirement already satisfied: colorama in c:\\users\\asus\\downloads\\desktop\\projects\\ecommerce_with_bert\\env_ecommerce\\lib\\site-packages (from tqdm>=4.27->transformers) (0.4.6)\n",
      "Requirement already satisfied: charset-normalizer<4,>=2 in c:\\users\\asus\\downloads\\desktop\\projects\\ecommerce_with_bert\\env_ecommerce\\lib\\site-packages (from requests->transformers) (3.3.2)\n",
      "Requirement already satisfied: idna<4,>=2.5 in c:\\users\\asus\\downloads\\desktop\\projects\\ecommerce_with_bert\\env_ecommerce\\lib\\site-packages (from requests->transformers) (3.6)\n",
      "Requirement already satisfied: urllib3<3,>=1.21.1 in c:\\users\\asus\\downloads\\desktop\\projects\\ecommerce_with_bert\\env_ecommerce\\lib\\site-packages (from requests->transformers) (2.2.1)\n",
      "Requirement already satisfied: certifi>=2017.4.17 in c:\\users\\asus\\downloads\\desktop\\projects\\ecommerce_with_bert\\env_ecommerce\\lib\\site-packages (from requests->transformers) (2024.2.2)\n"
     ]
    },
    {
     "name": "stderr",
     "output_type": "stream",
     "text": [
      "\n",
      "[notice] A new release of pip available: 22.3.1 -> 24.0\n",
      "[notice] To update, run: python.exe -m pip install --upgrade pip\n"
     ]
    }
   ],
   "source": [
    "\n",
    "!pip install transformers"
   ]
  },
  {
   "cell_type": "code",
   "execution_count": 192,
   "id": "a63c2335-059c-47e1-b289-e079e1b84f1f",
   "metadata": {},
   "outputs": [],
   "source": [
    "from transformers import DistilBertModel, DistilBertTokenizer\n",
    "import torch\n",
    "\n",
    "import numpy as np\n",
    "import pandas as pd\n",
    "warnings.filterwarnings(\"ignore\")\n",
    "     "
   ]
  },
  {
   "cell_type": "code",
   "execution_count": 193,
   "id": "d8b46d4d-82bd-4d38-8c7b-9792cf874137",
   "metadata": {},
   "outputs": [
    {
     "data": {
      "text/html": [
       "<div>\n",
       "<style scoped>\n",
       "    .dataframe tbody tr th:only-of-type {\n",
       "        vertical-align: middle;\n",
       "    }\n",
       "\n",
       "    .dataframe tbody tr th {\n",
       "        vertical-align: top;\n",
       "    }\n",
       "\n",
       "    .dataframe thead th {\n",
       "        text-align: right;\n",
       "    }\n",
       "</style>\n",
       "<table border=\"1\" class=\"dataframe\">\n",
       "  <thead>\n",
       "    <tr style=\"text-align: right;\">\n",
       "      <th></th>\n",
       "      <th>title</th>\n",
       "      <th>rating</th>\n",
       "      <th>link</th>\n",
       "      <th>image</th>\n",
       "      <th>size</th>\n",
       "      <th>occasion</th>\n",
       "      <th>color</th>\n",
       "      <th>rate</th>\n",
       "      <th>product_type</th>\n",
       "      <th>combined</th>\n",
       "    </tr>\n",
       "  </thead>\n",
       "  <tbody>\n",
       "    <tr>\n",
       "      <th>0</th>\n",
       "      <td>dresstells women's formal dresses cocktail tea...</td>\n",
       "      <td>50</td>\n",
       "      <td>https://www.amazon.com/sspa/click?ie=UTF8&amp;spc=...</td>\n",
       "      <td>https://m.media-amazon.com/images/I/61tcI69u-C...</td>\n",
       "      <td>s,m,l,xl</td>\n",
       "      <td>any</td>\n",
       "      <td>any</td>\n",
       "      <td>3480</td>\n",
       "      <td>Western</td>\n",
       "      <td>dresstells women's formal dresses cocktail tea...</td>\n",
       "    </tr>\n",
       "    <tr>\n",
       "      <th>1</th>\n",
       "      <td>dresstells dress with chiffon overlay cape, 20...</td>\n",
       "      <td>1002</td>\n",
       "      <td>https://www.amazon.com/DRESSTELLS-Dresses-Wedd...</td>\n",
       "      <td>https://m.media-amazon.com/images/I/61kTmUZqYW...</td>\n",
       "      <td>s,m,l,xl</td>\n",
       "      <td>any</td>\n",
       "      <td>any</td>\n",
       "      <td>3728</td>\n",
       "      <td>Western</td>\n",
       "      <td>dresstells dress with chiffon overlay cape, 20...</td>\n",
       "    </tr>\n",
       "    <tr>\n",
       "      <th>2</th>\n",
       "      <td>blencot womens casual short sleeve boho floral...</td>\n",
       "      <td>1011</td>\n",
       "      <td>https://www.amazon.com/BLENCOT-Printed-Evening...</td>\n",
       "      <td>https://m.media-amazon.com/images/I/61IVgEOpuB...</td>\n",
       "      <td>s,m,l,xl</td>\n",
       "      <td>any</td>\n",
       "      <td>any</td>\n",
       "      <td>4060</td>\n",
       "      <td>Western</td>\n",
       "      <td>blencot womens casual short sleeve boho floral...</td>\n",
       "    </tr>\n",
       "  </tbody>\n",
       "</table>\n",
       "</div>"
      ],
      "text/plain": [
       "                                               title  rating  \\\n",
       "0  dresstells women's formal dresses cocktail tea...      50   \n",
       "1  dresstells dress with chiffon overlay cape, 20...    1002   \n",
       "2  blencot womens casual short sleeve boho floral...    1011   \n",
       "\n",
       "                                                link  \\\n",
       "0  https://www.amazon.com/sspa/click?ie=UTF8&spc=...   \n",
       "1  https://www.amazon.com/DRESSTELLS-Dresses-Wedd...   \n",
       "2  https://www.amazon.com/BLENCOT-Printed-Evening...   \n",
       "\n",
       "                                               image      size occasion color  \\\n",
       "0  https://m.media-amazon.com/images/I/61tcI69u-C...  s,m,l,xl      any   any   \n",
       "1  https://m.media-amazon.com/images/I/61kTmUZqYW...  s,m,l,xl      any   any   \n",
       "2  https://m.media-amazon.com/images/I/61IVgEOpuB...  s,m,l,xl      any   any   \n",
       "\n",
       "   rate product_type                                           combined  \n",
       "0  3480      Western  dresstells women's formal dresses cocktail tea...  \n",
       "1  3728      Western  dresstells dress with chiffon overlay cape, 20...  \n",
       "2  4060      Western  blencot womens casual short sleeve boho floral...  "
      ]
     },
     "execution_count": 193,
     "metadata": {},
     "output_type": "execute_result"
    }
   ],
   "source": [
    "df.head(3)"
   ]
  },
  {
   "cell_type": "code",
   "execution_count": 194,
   "id": "04024d8a-8561-4b6c-a0c5-b5f7ca51ace7",
   "metadata": {},
   "outputs": [
    {
     "data": {
      "text/plain": [
       "(1450, 10)"
      ]
     },
     "execution_count": 194,
     "metadata": {},
     "output_type": "execute_result"
    }
   ],
   "source": [
    "df.shape"
   ]
  },
  {
   "cell_type": "code",
   "execution_count": 195,
   "id": "c0e203fd-0380-491e-b732-5a13c891b4c9",
   "metadata": {},
   "outputs": [
    {
     "data": {
      "text/plain": [
       "0       dresstells women's formal dresses cocktail tea...\n",
       "1       dresstells dress with chiffon overlay cape, 20...\n",
       "2       blencot womens casual short sleeve boho floral...\n",
       "3       hanna nikole women's plus size chiffon ruffle ...\n",
       "4       dresstells women's formal dresses cocktail tea...\n",
       "                              ...                        \n",
       "1445    prinstory men's pajama set sleepwear pjs light...\n",
       "1446    bulliant mens ratchet belt,leather adjustable ...\n",
       "1447    morwenveo men's linen pants casual long pants ...\n",
       "1448    hungson mens chinos slim fit stretch flat-fron...\n",
       "1449    long skirts for women maxi boho skirt floral p...\n",
       "Name: title, Length: 1450, dtype: object"
      ]
     },
     "execution_count": 195,
     "metadata": {},
     "output_type": "execute_result"
    }
   ],
   "source": [
    "no_rows = 1450\n",
    "#df = pd.read_csv(DATASET_FILE,nrows=no_rows)\n",
    "#df = df.drop_duplicates(subset = [\"pid\"])\n",
    "\n",
    "df2 = df['title']\n",
    "# df = df.astype(str)\n",
    "df = df.dropna()\n",
    "# df = df.applymap(lambda x: x.lower())\n",
    "# print(df['description'][:5])\n",
    "df['title']"
   ]
  },
  {
   "cell_type": "code",
   "execution_count": 196,
   "id": "a55a1b72-e2bb-4a9b-b24a-befab7ed3ae3",
   "metadata": {},
   "outputs": [],
   "source": [
    "# import re\n",
    "# # Function to extract keys and values from product_specifications column\n",
    "# def extract_specifications(specifications):\n",
    "#     pairs = re.findall(r'\"key\"=>\"(.*?)\", \"value\"=>\"(.*?)\"', specifications)\n",
    "#     pairs_formatted = [f\"{key}: {value}\" for key, value in pairs]\n",
    "#     return ' '.join(pairs_formatted)\n",
    "\n",
    "# # Apply the function to the product_specifications column\n",
    "# df['combined'] = df['combined'].apply(extract_specifications)\n",
    "\n",
    "# print(df['combined'][0])\n",
    "\n",
    "# # df[\"product_specifications\"][0]"
   ]
  },
  {
   "cell_type": "code",
   "execution_count": 197,
   "id": "16aee83c-e7d0-4634-b5bd-d5dc530ea78a",
   "metadata": {},
   "outputs": [],
   "source": [
    "\n",
    "import re"
   ]
  },
  {
   "cell_type": "code",
   "execution_count": 199,
   "id": "8bd76ac9-5c4a-4532-a1de-10ffd544ea1d",
   "metadata": {},
   "outputs": [
    {
     "data": {
      "text/plain": [
       "0       dresstells women's formal dresses cocktail tea...\n",
       "1       dresstells dress with chiffon overlay cape, 20...\n",
       "2       blencot womens casual short sleeve boho floral...\n",
       "3       hanna nikole women's plus size chiffon ruffle ...\n",
       "4       dresstells women's formal dresses cocktail tea...\n",
       "                              ...                        \n",
       "1445    prinstory men's pajama set sleepwear pjs light...\n",
       "1446    bulliant mens ratchet belt,leather adjustable ...\n",
       "1447    morwenveo men's linen pants casual long pants ...\n",
       "1448    hungson mens chinos slim fit stretch flat-fron...\n",
       "1449    long skirts for women maxi boho skirt floral p...\n",
       "Name: title, Length: 1450, dtype: object"
      ]
     },
     "execution_count": 199,
     "metadata": {},
     "output_type": "execute_result"
    }
   ],
   "source": [
    "\n",
    "import re\n",
    "# Function to extract keys and values from product_specifications column\n",
    "def extract_specifications(specifications):\n",
    "    pairs = re.findall(r'\"key\"=>\"(.*?)\", \"value\"=>\"(.*?)\"', specifications)\n",
    "    pairs_formatted = [f\"{key}: {value}\" for key, value in pairs]\n",
    "    return ' '.join(pairs_formatted)\n"
   ]
  },
  {
   "cell_type": "code",
   "execution_count": 158,
   "id": "d6cfb91f-524b-4f13-80f2-d0ad9ae493f9",
   "metadata": {},
   "outputs": [],
   "source": [
    "# Apply the function to the product_specifications column\n",
    "df['title'] = df['title'].apply(extract_specifications)"
   ]
  },
  {
   "cell_type": "code",
   "execution_count": 114,
   "id": "dc5cf842-98da-4b36-9d29-bc4b3fa049a9",
   "metadata": {},
   "outputs": [],
   "source": [
    "# def remove_colors(brand):\n",
    "#     # Define a list of colors to remove\n",
    "#     colors = [\n",
    "#     'amber', 'aquamarine', 'aqua', 'beige', 'black', 'blue', 'bronze',\n",
    "#     'brown', 'burgundy', 'caramel', 'chartreuse', 'charcoal', 'coral',\n",
    "#     'crimson', 'cyan', 'eggplant', 'emerald', 'forest green', 'fuchsia',\n",
    "#     'gold', 'golden', 'gray', 'green', 'indigo', 'ivory', 'jade', 'khaki',\n",
    "#     'lavender', 'lemon', 'lime', 'lilac', 'magenta', 'maroon', 'mint',\n",
    "#     'mint green', 'moss green', 'mustard', 'navy', 'neon amber',\n",
    "#     'neon blue', 'neon coral', 'neon crimson', 'neon fuchsia', 'neon gold',\n",
    "#     # 'neon green', 'neon indigo', 'neon lime', 'neon magenta', 'neon orange',\n",
    "#     'neon pink', 'neon platinum', 'neon purple', 'neon red', 'neon silver',\n",
    "#     'neon teal', 'neon turquoise', 'neon violet', 'olive', 'olive green',\n",
    "#     'orange', 'orchid', 'pearl', 'peach', 'peacock blue', 'peacock green',\n",
    "#     'periwinkle', 'pink', 'platinum', 'purple', 'red', 'rose', 'rose gold',\n",
    "#     'ruby', 'ruby red', 'rust', 'salmon', 'salmon pink', 'sapphire',\n",
    "#     'silver', 'sky blue', 'steel blue', 'tan', 'tangerine', 'taupe', 'teal',\n",
    "#     'topaz', 'turquoise', 'violet', 'white', 'yellow', 'baby pink', 'baby blue'\n",
    "#     ]\n",
    "#     # Create a regular expression pattern to match the colors\n",
    "#     pattern = r'\\b(?:{})\\b'.format('|'.join(colors))\n",
    "\n",
    "#     # Remove the colors from the brand name using regex substitution\n",
    "#     brand = re.sub(pattern, '', brand, flags=re.IGNORECASE).strip()\n",
    "\n",
    "#     return brand"
   ]
  },
  {
   "cell_type": "code",
   "execution_count": 115,
   "id": "11146257-9d4c-4eed-87f7-ba8b334a9083",
   "metadata": {},
   "outputs": [],
   "source": [
    "# # Apply the remove_colors function to the 'brand' column\n",
    "# df['title'] = df['title'].apply(remove_colors)\n"
   ]
  },
  {
   "cell_type": "code",
   "execution_count": 200,
   "id": "b57844c0-e827-4d5d-bdd5-bdbc984b7820",
   "metadata": {},
   "outputs": [
    {
     "data": {
      "text/plain": [
       "\"dresstells women's formal dresses cocktail tea party dress 2024 ruffle v-neck modest wedding guest bridesmaid dress any any s,m,l,xl 3480 Western\""
      ]
     },
     "execution_count": 200,
     "metadata": {},
     "output_type": "execute_result"
    }
   ],
   "source": [
    "# Combine multiple columns into one\n",
    "df['combined_text'] = df.apply(lambda row: f\"{row['title']} {row['color']} {row['occasion']} {row['size']} {row['rate']} {row['product_type']}\", axis=1)\n",
    "df['combined_text'][0]"
   ]
  },
  {
   "cell_type": "code",
   "execution_count": 201,
   "id": "c0e1d39a-39b2-4e8a-b00d-e8e3244c6520",
   "metadata": {},
   "outputs": [
    {
     "data": {
      "text/html": [
       "<div>\n",
       "<style scoped>\n",
       "    .dataframe tbody tr th:only-of-type {\n",
       "        vertical-align: middle;\n",
       "    }\n",
       "\n",
       "    .dataframe tbody tr th {\n",
       "        vertical-align: top;\n",
       "    }\n",
       "\n",
       "    .dataframe thead th {\n",
       "        text-align: right;\n",
       "    }\n",
       "</style>\n",
       "<table border=\"1\" class=\"dataframe\">\n",
       "  <thead>\n",
       "    <tr style=\"text-align: right;\">\n",
       "      <th></th>\n",
       "      <th>title</th>\n",
       "      <th>rating</th>\n",
       "      <th>link</th>\n",
       "      <th>image</th>\n",
       "      <th>size</th>\n",
       "      <th>occasion</th>\n",
       "      <th>color</th>\n",
       "      <th>rate</th>\n",
       "      <th>product_type</th>\n",
       "      <th>combined</th>\n",
       "      <th>combined_text</th>\n",
       "    </tr>\n",
       "  </thead>\n",
       "  <tbody>\n",
       "    <tr>\n",
       "      <th>0</th>\n",
       "      <td>dresstells women's formal dresses cocktail tea...</td>\n",
       "      <td>50</td>\n",
       "      <td>https://www.amazon.com/sspa/click?ie=UTF8&amp;spc=...</td>\n",
       "      <td>https://m.media-amazon.com/images/I/61tcI69u-C...</td>\n",
       "      <td>s,m,l,xl</td>\n",
       "      <td>any</td>\n",
       "      <td>any</td>\n",
       "      <td>3480</td>\n",
       "      <td>Western</td>\n",
       "      <td>dresstells women's formal dresses cocktail tea...</td>\n",
       "      <td>dresstells women's formal dresses cocktail tea...</td>\n",
       "    </tr>\n",
       "  </tbody>\n",
       "</table>\n",
       "</div>"
      ],
      "text/plain": [
       "                                               title  rating  \\\n",
       "0  dresstells women's formal dresses cocktail tea...      50   \n",
       "\n",
       "                                                link  \\\n",
       "0  https://www.amazon.com/sspa/click?ie=UTF8&spc=...   \n",
       "\n",
       "                                               image      size occasion color  \\\n",
       "0  https://m.media-amazon.com/images/I/61tcI69u-C...  s,m,l,xl      any   any   \n",
       "\n",
       "   rate product_type                                           combined  \\\n",
       "0  3480      Western  dresstells women's formal dresses cocktail tea...   \n",
       "\n",
       "                                       combined_text  \n",
       "0  dresstells women's formal dresses cocktail tea...  "
      ]
     },
     "execution_count": 201,
     "metadata": {},
     "output_type": "execute_result"
    }
   ],
   "source": [
    "df.head(1)"
   ]
  },
  {
   "cell_type": "code",
   "execution_count": 202,
   "id": "7befd331-e7c2-40b6-bf67-bc87f43c0eca",
   "metadata": {},
   "outputs": [
    {
     "data": {
      "text/html": [
       "<div>\n",
       "<style scoped>\n",
       "    .dataframe tbody tr th:only-of-type {\n",
       "        vertical-align: middle;\n",
       "    }\n",
       "\n",
       "    .dataframe tbody tr th {\n",
       "        vertical-align: top;\n",
       "    }\n",
       "\n",
       "    .dataframe thead th {\n",
       "        text-align: right;\n",
       "    }\n",
       "</style>\n",
       "<table border=\"1\" class=\"dataframe\">\n",
       "  <thead>\n",
       "    <tr style=\"text-align: right;\">\n",
       "      <th></th>\n",
       "      <th>title</th>\n",
       "      <th>rating</th>\n",
       "      <th>link</th>\n",
       "      <th>image</th>\n",
       "      <th>size</th>\n",
       "      <th>occasion</th>\n",
       "      <th>color</th>\n",
       "      <th>rate</th>\n",
       "      <th>product_type</th>\n",
       "      <th>combined</th>\n",
       "      <th>combined_text</th>\n",
       "    </tr>\n",
       "  </thead>\n",
       "  <tbody>\n",
       "    <tr>\n",
       "      <th>0</th>\n",
       "      <td>dresstells women's formal dresses cocktail tea...</td>\n",
       "      <td>50</td>\n",
       "      <td>https://www.amazon.com/sspa/click?ie=UTF8&amp;spc=...</td>\n",
       "      <td>https://m.media-amazon.com/images/I/61tcI69u-C...</td>\n",
       "      <td>s,m,l,xl</td>\n",
       "      <td>any</td>\n",
       "      <td>any</td>\n",
       "      <td>3480</td>\n",
       "      <td>Western</td>\n",
       "      <td>dresstells women's formal dresses cocktail tea...</td>\n",
       "      <td>dresstells women's formal dresses cocktail tea...</td>\n",
       "    </tr>\n",
       "    <tr>\n",
       "      <th>1</th>\n",
       "      <td>dresstells dress with chiffon overlay cape, 20...</td>\n",
       "      <td>1002</td>\n",
       "      <td>https://www.amazon.com/DRESSTELLS-Dresses-Wedd...</td>\n",
       "      <td>https://m.media-amazon.com/images/I/61kTmUZqYW...</td>\n",
       "      <td>s,m,l,xl</td>\n",
       "      <td>any</td>\n",
       "      <td>any</td>\n",
       "      <td>3728</td>\n",
       "      <td>Western</td>\n",
       "      <td>dresstells dress with chiffon overlay cape, 20...</td>\n",
       "      <td>dresstells dress with chiffon overlay cape, 20...</td>\n",
       "    </tr>\n",
       "    <tr>\n",
       "      <th>2</th>\n",
       "      <td>blencot womens casual short sleeve boho floral...</td>\n",
       "      <td>1011</td>\n",
       "      <td>https://www.amazon.com/BLENCOT-Printed-Evening...</td>\n",
       "      <td>https://m.media-amazon.com/images/I/61IVgEOpuB...</td>\n",
       "      <td>s,m,l,xl</td>\n",
       "      <td>any</td>\n",
       "      <td>any</td>\n",
       "      <td>4060</td>\n",
       "      <td>Western</td>\n",
       "      <td>blencot womens casual short sleeve boho floral...</td>\n",
       "      <td>blencot womens casual short sleeve boho floral...</td>\n",
       "    </tr>\n",
       "    <tr>\n",
       "      <th>3</th>\n",
       "      <td>hanna nikole women's plus size chiffon ruffle ...</td>\n",
       "      <td>7896</td>\n",
       "      <td>https://www.amazon.com/Hanna-Nikole-Chiffon-Po...</td>\n",
       "      <td>https://m.media-amazon.com/images/I/51AKCj7rPk...</td>\n",
       "      <td>s,m,l,xl</td>\n",
       "      <td>any</td>\n",
       "      <td>any</td>\n",
       "      <td>3811</td>\n",
       "      <td>Western</td>\n",
       "      <td>hanna nikole women's plus size chiffon ruffle ...</td>\n",
       "      <td>hanna nikole women's plus size chiffon ruffle ...</td>\n",
       "    </tr>\n",
       "    <tr>\n",
       "      <th>4</th>\n",
       "      <td>dresstells women's formal dresses cocktail tea...</td>\n",
       "      <td>50</td>\n",
       "      <td>https://www.amazon.com/sspa/click?ie=UTF8&amp;spc=...</td>\n",
       "      <td>https://m.media-amazon.com/images/I/61tcI69u-C...</td>\n",
       "      <td>s,m,l,xl</td>\n",
       "      <td>any</td>\n",
       "      <td>any</td>\n",
       "      <td>3480</td>\n",
       "      <td>Western</td>\n",
       "      <td>dresstells women's formal dresses cocktail tea...</td>\n",
       "      <td>dresstells women's formal dresses cocktail tea...</td>\n",
       "    </tr>\n",
       "    <tr>\n",
       "      <th>...</th>\n",
       "      <td>...</td>\n",
       "      <td>...</td>\n",
       "      <td>...</td>\n",
       "      <td>...</td>\n",
       "      <td>...</td>\n",
       "      <td>...</td>\n",
       "      <td>...</td>\n",
       "      <td>...</td>\n",
       "      <td>...</td>\n",
       "      <td>...</td>\n",
       "      <td>...</td>\n",
       "    </tr>\n",
       "    <tr>\n",
       "      <th>1445</th>\n",
       "      <td>prinstory men's pajama set sleepwear pjs light...</td>\n",
       "      <td>67</td>\n",
       "      <td>https://www.amazon.com/sspa/click?ie=UTF8&amp;spc=...</td>\n",
       "      <td>https://m.media-amazon.com/images/I/51KJIPWvMn...</td>\n",
       "      <td>s,m,l,xl</td>\n",
       "      <td>festival</td>\n",
       "      <td>any</td>\n",
       "      <td>1574</td>\n",
       "      <td>Western</td>\n",
       "      <td>prinstory men's pajama set sleepwear pjs light...</td>\n",
       "      <td>prinstory men's pajama set sleepwear pjs light...</td>\n",
       "    </tr>\n",
       "    <tr>\n",
       "      <th>1446</th>\n",
       "      <td>bulliant mens ratchet belt,leather adjustable ...</td>\n",
       "      <td>5487</td>\n",
       "      <td>https://www.amazon.com/sspa/click?ie=UTF8&amp;spc=...</td>\n",
       "      <td>https://m.media-amazon.com/images/I/71l9EuW51I...</td>\n",
       "      <td>s,m,l,xl</td>\n",
       "      <td>festival</td>\n",
       "      <td>any</td>\n",
       "      <td>1077</td>\n",
       "      <td>Western</td>\n",
       "      <td>bulliant mens ratchet belt,leather adjustable ...</td>\n",
       "      <td>bulliant mens ratchet belt,leather adjustable ...</td>\n",
       "    </tr>\n",
       "    <tr>\n",
       "      <th>1447</th>\n",
       "      <td>morwenveo men's linen pants casual long pants ...</td>\n",
       "      <td>3556</td>\n",
       "      <td>https://www.amazon.com/sspa/click?ie=UTF8&amp;spc=...</td>\n",
       "      <td>https://m.media-amazon.com/images/I/51oaRXnxnY...</td>\n",
       "      <td>s,m,l,xl</td>\n",
       "      <td>festival</td>\n",
       "      <td>any</td>\n",
       "      <td>2237</td>\n",
       "      <td>Casual</td>\n",
       "      <td>morwenveo men's linen pants casual long pants ...</td>\n",
       "      <td>morwenveo men's linen pants casual long pants ...</td>\n",
       "    </tr>\n",
       "    <tr>\n",
       "      <th>1448</th>\n",
       "      <td>hungson mens chinos slim fit stretch flat-fron...</td>\n",
       "      <td>1877</td>\n",
       "      <td>https://www.amazon.com/sspa/click?ie=UTF8&amp;spc=...</td>\n",
       "      <td>https://m.media-amazon.com/images/I/41Hnx2ZktV...</td>\n",
       "      <td>s,m,l,xl</td>\n",
       "      <td>festival</td>\n",
       "      <td>any</td>\n",
       "      <td>2900</td>\n",
       "      <td>Western</td>\n",
       "      <td>hungson mens chinos slim fit stretch flat-fron...</td>\n",
       "      <td>hungson mens chinos slim fit stretch flat-fron...</td>\n",
       "    </tr>\n",
       "    <tr>\n",
       "      <th>1449</th>\n",
       "      <td>long skirts for women maxi boho skirt floral p...</td>\n",
       "      <td>10728</td>\n",
       "      <td>https://www.amazon.com/sspa/click?ie=UTF8&amp;spc=...</td>\n",
       "      <td>https://m.media-amazon.com/images/I/91xZPjfbUF...</td>\n",
       "      <td>s,m,l,xl</td>\n",
       "      <td>festival</td>\n",
       "      <td>any</td>\n",
       "      <td>1822</td>\n",
       "      <td>Western</td>\n",
       "      <td>long skirts for women maxi boho skirt floral p...</td>\n",
       "      <td>long skirts for women maxi boho skirt floral p...</td>\n",
       "    </tr>\n",
       "  </tbody>\n",
       "</table>\n",
       "<p>1450 rows × 11 columns</p>\n",
       "</div>"
      ],
      "text/plain": [
       "                                                  title  rating  \\\n",
       "0     dresstells women's formal dresses cocktail tea...      50   \n",
       "1     dresstells dress with chiffon overlay cape, 20...    1002   \n",
       "2     blencot womens casual short sleeve boho floral...    1011   \n",
       "3     hanna nikole women's plus size chiffon ruffle ...    7896   \n",
       "4     dresstells women's formal dresses cocktail tea...      50   \n",
       "...                                                 ...     ...   \n",
       "1445  prinstory men's pajama set sleepwear pjs light...      67   \n",
       "1446  bulliant mens ratchet belt,leather adjustable ...    5487   \n",
       "1447  morwenveo men's linen pants casual long pants ...    3556   \n",
       "1448  hungson mens chinos slim fit stretch flat-fron...    1877   \n",
       "1449  long skirts for women maxi boho skirt floral p...   10728   \n",
       "\n",
       "                                                   link  \\\n",
       "0     https://www.amazon.com/sspa/click?ie=UTF8&spc=...   \n",
       "1     https://www.amazon.com/DRESSTELLS-Dresses-Wedd...   \n",
       "2     https://www.amazon.com/BLENCOT-Printed-Evening...   \n",
       "3     https://www.amazon.com/Hanna-Nikole-Chiffon-Po...   \n",
       "4     https://www.amazon.com/sspa/click?ie=UTF8&spc=...   \n",
       "...                                                 ...   \n",
       "1445  https://www.amazon.com/sspa/click?ie=UTF8&spc=...   \n",
       "1446  https://www.amazon.com/sspa/click?ie=UTF8&spc=...   \n",
       "1447  https://www.amazon.com/sspa/click?ie=UTF8&spc=...   \n",
       "1448  https://www.amazon.com/sspa/click?ie=UTF8&spc=...   \n",
       "1449  https://www.amazon.com/sspa/click?ie=UTF8&spc=...   \n",
       "\n",
       "                                                  image      size  occasion  \\\n",
       "0     https://m.media-amazon.com/images/I/61tcI69u-C...  s,m,l,xl       any   \n",
       "1     https://m.media-amazon.com/images/I/61kTmUZqYW...  s,m,l,xl       any   \n",
       "2     https://m.media-amazon.com/images/I/61IVgEOpuB...  s,m,l,xl       any   \n",
       "3     https://m.media-amazon.com/images/I/51AKCj7rPk...  s,m,l,xl       any   \n",
       "4     https://m.media-amazon.com/images/I/61tcI69u-C...  s,m,l,xl       any   \n",
       "...                                                 ...       ...       ...   \n",
       "1445  https://m.media-amazon.com/images/I/51KJIPWvMn...  s,m,l,xl  festival   \n",
       "1446  https://m.media-amazon.com/images/I/71l9EuW51I...  s,m,l,xl  festival   \n",
       "1447  https://m.media-amazon.com/images/I/51oaRXnxnY...  s,m,l,xl  festival   \n",
       "1448  https://m.media-amazon.com/images/I/41Hnx2ZktV...  s,m,l,xl  festival   \n",
       "1449  https://m.media-amazon.com/images/I/91xZPjfbUF...  s,m,l,xl  festival   \n",
       "\n",
       "     color  rate product_type  \\\n",
       "0      any  3480      Western   \n",
       "1      any  3728      Western   \n",
       "2      any  4060      Western   \n",
       "3      any  3811      Western   \n",
       "4      any  3480      Western   \n",
       "...    ...   ...          ...   \n",
       "1445   any  1574      Western   \n",
       "1446   any  1077      Western   \n",
       "1447   any  2237       Casual   \n",
       "1448   any  2900      Western   \n",
       "1449   any  1822      Western   \n",
       "\n",
       "                                               combined  \\\n",
       "0     dresstells women's formal dresses cocktail tea...   \n",
       "1     dresstells dress with chiffon overlay cape, 20...   \n",
       "2     blencot womens casual short sleeve boho floral...   \n",
       "3     hanna nikole women's plus size chiffon ruffle ...   \n",
       "4     dresstells women's formal dresses cocktail tea...   \n",
       "...                                                 ...   \n",
       "1445  prinstory men's pajama set sleepwear pjs light...   \n",
       "1446  bulliant mens ratchet belt,leather adjustable ...   \n",
       "1447  morwenveo men's linen pants casual long pants ...   \n",
       "1448  hungson mens chinos slim fit stretch flat-fron...   \n",
       "1449  long skirts for women maxi boho skirt floral p...   \n",
       "\n",
       "                                          combined_text  \n",
       "0     dresstells women's formal dresses cocktail tea...  \n",
       "1     dresstells dress with chiffon overlay cape, 20...  \n",
       "2     blencot womens casual short sleeve boho floral...  \n",
       "3     hanna nikole women's plus size chiffon ruffle ...  \n",
       "4     dresstells women's formal dresses cocktail tea...  \n",
       "...                                                 ...  \n",
       "1445  prinstory men's pajama set sleepwear pjs light...  \n",
       "1446  bulliant mens ratchet belt,leather adjustable ...  \n",
       "1447  morwenveo men's linen pants casual long pants ...  \n",
       "1448  hungson mens chinos slim fit stretch flat-fron...  \n",
       "1449  long skirts for women maxi boho skirt floral p...  \n",
       "\n",
       "[1450 rows x 11 columns]"
      ]
     },
     "execution_count": 202,
     "metadata": {},
     "output_type": "execute_result"
    }
   ],
   "source": [
    "df"
   ]
  },
  {
   "cell_type": "code",
   "execution_count": 204,
   "id": "f18d5fd5-143c-409d-9225-91284912d171",
   "metadata": {},
   "outputs": [
    {
     "name": "stderr",
     "output_type": "stream",
     "text": [
      "\n",
      "[notice] A new release of pip available: 22.3.1 -> 24.0\n",
      "[notice] To update, run: python.exe -m pip install --upgrade pip\n"
     ]
    },
    {
     "name": "stdout",
     "output_type": "stream",
     "text": [
      "Collecting sentence_transformers\n",
      "  Downloading sentence_transformers-2.6.0-py3-none-any.whl (163 kB)\n",
      "     -------------------------------------- 163.1/163.1 kB 1.1 MB/s eta 0:00:00\n",
      "Requirement already satisfied: transformers<5.0.0,>=4.32.0 in c:\\users\\asus\\downloads\\desktop\\projects\\ecommerce_with_bert\\env_ecommerce\\lib\\site-packages (from sentence_transformers) (4.39.1)\n",
      "Requirement already satisfied: tqdm in c:\\users\\asus\\downloads\\desktop\\projects\\ecommerce_with_bert\\env_ecommerce\\lib\\site-packages (from sentence_transformers) (4.66.2)\n",
      "Collecting torch>=1.11.0\n",
      "  Downloading torch-2.2.1-cp311-cp311-win_amd64.whl (198.6 MB)\n",
      "     -------------------------------------- 198.6/198.6 MB 1.3 MB/s eta 0:00:00\n",
      "Requirement already satisfied: numpy in c:\\users\\asus\\downloads\\desktop\\projects\\ecommerce_with_bert\\env_ecommerce\\lib\\site-packages (from sentence_transformers) (1.26.4)\n",
      "Collecting scikit-learn\n",
      "  Downloading scikit_learn-1.4.1.post1-cp311-cp311-win_amd64.whl (10.6 MB)\n",
      "     ---------------------------------------- 10.6/10.6 MB 3.0 MB/s eta 0:00:00\n",
      "Collecting scipy\n",
      "  Downloading scipy-1.12.0-cp311-cp311-win_amd64.whl (46.2 MB)\n",
      "     ---------------------------------------- 46.2/46.2 MB 4.4 MB/s eta 0:00:00\n",
      "Requirement already satisfied: huggingface-hub>=0.15.1 in c:\\users\\asus\\downloads\\desktop\\projects\\ecommerce_with_bert\\env_ecommerce\\lib\\site-packages (from sentence_transformers) (0.21.4)\n",
      "Collecting Pillow\n",
      "  Using cached pillow-10.2.0-cp311-cp311-win_amd64.whl (2.6 MB)\n",
      "Requirement already satisfied: filelock in c:\\users\\asus\\downloads\\desktop\\projects\\ecommerce_with_bert\\env_ecommerce\\lib\\site-packages (from huggingface-hub>=0.15.1->sentence_transformers) (3.13.1)\n",
      "Requirement already satisfied: fsspec>=2023.5.0 in c:\\users\\asus\\downloads\\desktop\\projects\\ecommerce_with_bert\\env_ecommerce\\lib\\site-packages (from huggingface-hub>=0.15.1->sentence_transformers) (2024.3.1)\n",
      "Requirement already satisfied: requests in c:\\users\\asus\\downloads\\desktop\\projects\\ecommerce_with_bert\\env_ecommerce\\lib\\site-packages (from huggingface-hub>=0.15.1->sentence_transformers) (2.31.0)\n",
      "Requirement already satisfied: pyyaml>=5.1 in c:\\users\\asus\\downloads\\desktop\\projects\\ecommerce_with_bert\\env_ecommerce\\lib\\site-packages (from huggingface-hub>=0.15.1->sentence_transformers) (6.0.1)\n",
      "Requirement already satisfied: typing-extensions>=3.7.4.3 in c:\\users\\asus\\downloads\\desktop\\projects\\ecommerce_with_bert\\env_ecommerce\\lib\\site-packages (from huggingface-hub>=0.15.1->sentence_transformers) (4.10.0)\n",
      "Requirement already satisfied: packaging>=20.9 in c:\\users\\asus\\downloads\\desktop\\projects\\ecommerce_with_bert\\env_ecommerce\\lib\\site-packages (from huggingface-hub>=0.15.1->sentence_transformers) (24.0)\n",
      "Collecting sympy\n",
      "  Downloading sympy-1.12-py3-none-any.whl (5.7 MB)\n",
      "     ---------------------------------------- 5.7/5.7 MB 3.7 MB/s eta 0:00:00\n",
      "Collecting networkx\n",
      "  Downloading networkx-3.2.1-py3-none-any.whl (1.6 MB)\n",
      "     ---------------------------------------- 1.6/1.6 MB 3.7 MB/s eta 0:00:00\n",
      "Collecting jinja2\n",
      "  Using cached Jinja2-3.1.3-py3-none-any.whl (133 kB)\n",
      "Requirement already satisfied: colorama in c:\\users\\asus\\downloads\\desktop\\projects\\ecommerce_with_bert\\env_ecommerce\\lib\\site-packages (from tqdm->sentence_transformers) (0.4.6)\n",
      "Requirement already satisfied: regex!=2019.12.17 in c:\\users\\asus\\downloads\\desktop\\projects\\ecommerce_with_bert\\env_ecommerce\\lib\\site-packages (from transformers<5.0.0,>=4.32.0->sentence_transformers) (2023.12.25)\n",
      "Requirement already satisfied: tokenizers<0.19,>=0.14 in c:\\users\\asus\\downloads\\desktop\\projects\\ecommerce_with_bert\\env_ecommerce\\lib\\site-packages (from transformers<5.0.0,>=4.32.0->sentence_transformers) (0.15.2)\n",
      "Requirement already satisfied: safetensors>=0.4.1 in c:\\users\\asus\\downloads\\desktop\\projects\\ecommerce_with_bert\\env_ecommerce\\lib\\site-packages (from transformers<5.0.0,>=4.32.0->sentence_transformers) (0.4.2)\n",
      "Requirement already satisfied: joblib>=1.2.0 in c:\\users\\asus\\downloads\\desktop\\projects\\ecommerce_with_bert\\env_ecommerce\\lib\\site-packages (from scikit-learn->sentence_transformers) (1.3.2)\n",
      "Collecting threadpoolctl>=2.0.0\n",
      "  Downloading threadpoolctl-3.4.0-py3-none-any.whl (17 kB)\n",
      "Requirement already satisfied: MarkupSafe>=2.0 in c:\\users\\asus\\downloads\\desktop\\projects\\ecommerce_with_bert\\env_ecommerce\\lib\\site-packages (from jinja2->torch>=1.11.0->sentence_transformers) (2.1.5)\n",
      "Requirement already satisfied: charset-normalizer<4,>=2 in c:\\users\\asus\\downloads\\desktop\\projects\\ecommerce_with_bert\\env_ecommerce\\lib\\site-packages (from requests->huggingface-hub>=0.15.1->sentence_transformers) (3.3.2)\n",
      "Requirement already satisfied: idna<4,>=2.5 in c:\\users\\asus\\downloads\\desktop\\projects\\ecommerce_with_bert\\env_ecommerce\\lib\\site-packages (from requests->huggingface-hub>=0.15.1->sentence_transformers) (3.6)\n",
      "Requirement already satisfied: urllib3<3,>=1.21.1 in c:\\users\\asus\\downloads\\desktop\\projects\\ecommerce_with_bert\\env_ecommerce\\lib\\site-packages (from requests->huggingface-hub>=0.15.1->sentence_transformers) (2.2.1)\n",
      "Requirement already satisfied: certifi>=2017.4.17 in c:\\users\\asus\\downloads\\desktop\\projects\\ecommerce_with_bert\\env_ecommerce\\lib\\site-packages (from requests->huggingface-hub>=0.15.1->sentence_transformers) (2024.2.2)\n",
      "Collecting mpmath>=0.19\n",
      "  Downloading mpmath-1.3.0-py3-none-any.whl (536 kB)\n",
      "     -------------------------------------- 536.2/536.2 kB 6.7 MB/s eta 0:00:00\n",
      "Installing collected packages: mpmath, threadpoolctl, sympy, scipy, Pillow, networkx, jinja2, torch, scikit-learn, sentence_transformers\n",
      "Successfully installed Pillow-10.2.0 jinja2-3.1.3 mpmath-1.3.0 networkx-3.2.1 scikit-learn-1.4.1.post1 scipy-1.12.0 sentence_transformers-2.6.0 sympy-1.12 threadpoolctl-3.4.0 torch-2.2.1\n"
     ]
    },
    {
     "data": {
      "application/vnd.jupyter.widget-view+json": {
       "model_id": "18d9d2c71df34a2794202561e6492b40",
       "version_major": 2,
       "version_minor": 0
      },
      "text/plain": [
       "modules.json:   0%|          | 0.00/229 [00:00<?, ?B/s]"
      ]
     },
     "metadata": {},
     "output_type": "display_data"
    },
    {
     "data": {
      "application/vnd.jupyter.widget-view+json": {
       "model_id": "2197aeb27c1248259ce155ca253888e9",
       "version_major": 2,
       "version_minor": 0
      },
      "text/plain": [
       "config_sentence_transformers.json:   0%|          | 0.00/122 [00:00<?, ?B/s]"
      ]
     },
     "metadata": {},
     "output_type": "display_data"
    },
    {
     "data": {
      "application/vnd.jupyter.widget-view+json": {
       "model_id": "b85df172d8044f40a4ad2148a3d1c3c9",
       "version_major": 2,
       "version_minor": 0
      },
      "text/plain": [
       "README.md:   0%|          | 0.00/3.99k [00:00<?, ?B/s]"
      ]
     },
     "metadata": {},
     "output_type": "display_data"
    },
    {
     "data": {
      "application/vnd.jupyter.widget-view+json": {
       "model_id": "d1d26aa9f73a47a9b66259ec6aec65e5",
       "version_major": 2,
       "version_minor": 0
      },
      "text/plain": [
       "sentence_bert_config.json:   0%|          | 0.00/53.0 [00:00<?, ?B/s]"
      ]
     },
     "metadata": {},
     "output_type": "display_data"
    },
    {
     "data": {
      "application/vnd.jupyter.widget-view+json": {
       "model_id": "64d1eef7b7574e09af2cc7fdff2b97ee",
       "version_major": 2,
       "version_minor": 0
      },
      "text/plain": [
       "config.json:   0%|          | 0.00/625 [00:00<?, ?B/s]"
      ]
     },
     "metadata": {},
     "output_type": "display_data"
    },
    {
     "data": {
      "application/vnd.jupyter.widget-view+json": {
       "model_id": "d38e433b103e4895bb441f754e971c80",
       "version_major": 2,
       "version_minor": 0
      },
      "text/plain": [
       "pytorch_model.bin:   0%|          | 0.00/438M [00:00<?, ?B/s]"
      ]
     },
     "metadata": {},
     "output_type": "display_data"
    },
    {
     "data": {
      "application/vnd.jupyter.widget-view+json": {
       "model_id": "077f54c68fa0464293bed4682f3916dd",
       "version_major": 2,
       "version_minor": 0
      },
      "text/plain": [
       "tokenizer_config.json:   0%|          | 0.00/399 [00:00<?, ?B/s]"
      ]
     },
     "metadata": {},
     "output_type": "display_data"
    },
    {
     "data": {
      "application/vnd.jupyter.widget-view+json": {
       "model_id": "daf3b8f54b89429a92446d4bdbcc5b07",
       "version_major": 2,
       "version_minor": 0
      },
      "text/plain": [
       "vocab.txt:   0%|          | 0.00/232k [00:00<?, ?B/s]"
      ]
     },
     "metadata": {},
     "output_type": "display_data"
    },
    {
     "data": {
      "application/vnd.jupyter.widget-view+json": {
       "model_id": "11c0e6d9a5654c12b41b6ce7408ecf8e",
       "version_major": 2,
       "version_minor": 0
      },
      "text/plain": [
       "tokenizer.json:   0%|          | 0.00/466k [00:00<?, ?B/s]"
      ]
     },
     "metadata": {},
     "output_type": "display_data"
    },
    {
     "data": {
      "application/vnd.jupyter.widget-view+json": {
       "model_id": "45b7c430e2f14537b009eed24b07de12",
       "version_major": 2,
       "version_minor": 0
      },
      "text/plain": [
       "added_tokens.json:   0%|          | 0.00/2.00 [00:00<?, ?B/s]"
      ]
     },
     "metadata": {},
     "output_type": "display_data"
    },
    {
     "data": {
      "application/vnd.jupyter.widget-view+json": {
       "model_id": "1d020a4339564ba9acd39460cd93b80c",
       "version_major": 2,
       "version_minor": 0
      },
      "text/plain": [
       "special_tokens_map.json:   0%|          | 0.00/112 [00:00<?, ?B/s]"
      ]
     },
     "metadata": {},
     "output_type": "display_data"
    },
    {
     "data": {
      "application/vnd.jupyter.widget-view+json": {
       "model_id": "4a0ff865fffd4f5bacaad5c96987397c",
       "version_major": 2,
       "version_minor": 0
      },
      "text/plain": [
       "1_Pooling/config.json:   0%|          | 0.00/190 [00:00<?, ?B/s]"
      ]
     },
     "metadata": {},
     "output_type": "display_data"
    }
   ],
   "source": [
    "!pip install sentence_transformers\n",
    "\n",
    "from sentence_transformers import SentenceTransformer\n",
    "bert = SentenceTransformer('bert-base-nli-mean-tokens')"
   ]
  },
  {
   "cell_type": "code",
   "execution_count": 205,
   "id": "7fd9d3f6-a6bd-4c11-a805-e0d433e1a9b5",
   "metadata": {},
   "outputs": [],
   "source": [
    "# Get embeddings\n",
    "sentence_embeddings = bert.encode(df['combined_text'].tolist())"
   ]
  },
  {
   "cell_type": "code",
   "execution_count": 223,
   "id": "11b89837-980f-40b1-8c70-d8ae0f31acbd",
   "metadata": {},
   "outputs": [],
   "source": [
    "import numpy as np\n",
    "# Define the file path where you want to save the embeddings\n",
    "embeddings_path = \"C:/Users/ASUS/Downloads/Desktop/Projects/e-commerce-chatbot/embedding\""
   ]
  },
  {
   "cell_type": "code",
   "execution_count": 224,
   "id": "db44690a-94df-476f-9513-0a61cc5e6baa",
   "metadata": {},
   "outputs": [],
   "source": [
    "\n",
    "# def extract_brand(query):\n",
    "#     query = str(query).lower()  # Convert the query to lowercase for case-insensitive matching\n",
    "#     brand_names = df['brand'].str.lower()  # Convert the 'brand' column to lowercase for case-insensitive matching\n",
    "\n",
    "#     for brand in brand_names:\n",
    "#         if brand in query:\n",
    "#             return brand\n",
    "\n",
    "#     return None  # If no brand name is found in the query\n",
    "# import numpy as np\n",
    "# embeddings_path = \"/content/drive/MyDrive/Colab Notebooks/embeddings2.npy\"\n",
    "# np.save(embeddings_path,sentence_embeddings)\n",
    "\n",
    "# # userinput = input(\"enter query\") #test\n",
    "# # print(extract_brand(userinput))\n",
    "# # print(len(df['brand']))\n",
    "# # print(len(df))"
   ]
  },
  {
   "cell_type": "code",
   "execution_count": 225,
   "id": "ddf78cf3-cf0b-49b5-a1e5-200cba0fec2a",
   "metadata": {},
   "outputs": [],
   "source": [
    "np.save(embeddings_path,sentence_embeddings)"
   ]
  },
  {
   "cell_type": "code",
   "execution_count": 226,
   "id": "283ed08a-e669-41e2-a1df-bb9f53581188",
   "metadata": {},
   "outputs": [],
   "source": [
    "# userinput = input(\"enter query\") #test\n",
    "# print(extract_brand(userinput))\n",
    "# print(len(df['brand']))\n",
    "# print(len(df))\n",
    "     "
   ]
  },
  {
   "cell_type": "code",
   "execution_count": 237,
   "id": "ef63a530-6dd1-4144-afbf-7c24b9902c88",
   "metadata": {},
   "outputs": [],
   "source": [
    "#sentence_embeddings = np.load(embeddings_path) #for future sessions\n",
    "def extract_product(query):\n",
    "    query = str(query).lower()  # Convert the query to lowercase for case-insensitive matching\n",
    "    product_name = df['product_type'].str.lower()  # Convert the 'brand' column to lowercase for case-insensitive matching\n",
    "\n",
    "    for product in product_name:\n",
    "        if product in query:\n",
    "            return product\n",
    "\n",
    "    return None  # If no brand name is found in the query\n"
   ]
  },
  {
   "cell_type": "code",
   "execution_count": 238,
   "id": "09e3ac49-946c-44a7-ad98-56a1eff4971c",
   "metadata": {},
   "outputs": [],
   "source": [
    "\n",
    "\n",
    "#Compute similarity\n",
    "from sklearn.metrics.pairwise import cosine_similarity"
   ]
  },
  {
   "cell_type": "code",
   "execution_count": 242,
   "id": "f40fe932-edb4-481f-9baa-36a74928170b",
   "metadata": {},
   "outputs": [
    {
     "name": "stdout",
     "output_type": "stream",
     "text": [
      "Recommendations for \"white wedding dress under 1000 for men\" are: \n",
      "818                                                                                      yaohuole button down kaftan muslim long gown thobe robe for men white 2xl\n",
      "812                                                                          men's muslim clothes durable kaftan robe dubai long gown ethnic clothes,1pc soft robe\n",
      "1163    aditri creation thin dhoti cotton dhoti's full length men's ethnic wear white single piece indian traditional dhoti with 1inch large border new year gifts\n",
      "1077                                                                                                                    lee uniforms men's long sleeve dress shirt\n",
      "815                                                                         gafeng mens kaftan thobe long sleeve robe gown casual cotton linen button muslim shirt\n",
      "856                                                    men's cream cotton dhoti/veshti/mundu set (includes dhoti [3.8m], angavastram [1.8m] and dhoti belt [1.4m])\n",
      "222                                                         jmierr men's dress shirts plaid 100% cotton button down long sleeve regular fit formal business shirts\n",
      "1148                                                                                   skavij kurta pajama set for men embroidered cotton wedding party dress suit\n",
      "825                                                   muslim jubba thobe for men,fashion muslim kaftan robes,men casual buttons long sleeve round neck jubba thobe\n",
      "55                                                                                     the children's place baby toddler boys long sleeve oxford button down shirt\n",
      "Name: product_name_origin, dtype: object\n",
      "0.8334972858428955\n",
      "\n"
     ]
    }
   ],
   "source": [
    "# start = time.time() #start time for recommendation\n",
    "pd.set_option('display.max_colwidth', None) #to prevent truncation from end of product name\n",
    "\n",
    "def product_inference(user_input,sentence_embeddings):\n",
    "  print(\"Recommendations for \\\"\",user_input,\"\\\" are: \",sep='')\n",
    "  user_input = re.sub('[^A-Za-z0-9]+', ' ', user_input)\n",
    "  start=time.time()\n",
    "  query_brand = extract_product(user_input)\n",
    "  user_input_embedding = bert.encode([user_input])\n",
    "  # similarity=cosine_similarity(sentence_embeddings)\n",
    "  similarities = cosine_similarity(user_input_embedding, sentence_embeddings)\n",
    "  if query_brand is not None:\n",
    "    df['product_match_weight'] = df['product'].apply(lambda x: 1.5 if x == query_brand else 1.0)\n",
    "    df['product_match_weight'] = df['product_match_weight'] * df['title'].apply(lambda x: 1.5  if query_brand in x else 1.0) #now checking for brand name in product_name column too\n",
    "  else:\n",
    "    df['product_match_weight'] = 1.0\n",
    "\n",
    "  similarities_with_brand = similarities*(np.array(df['product_match_weight']))\n",
    "  num_recommendations = 10\n",
    "  top_indices = similarities_with_brand.argsort()[0][::-1][:num_recommendations]\n",
    "\n",
    "  df['product_name_origin']=df2 #to retain the original product names, since the df was preprocessed, which involved removing all symbols etc.\n",
    "  recommended_products = df.iloc[top_indices]['product_name_origin']\n",
    "  print(recommended_products)\n",
    "  end=time.time()-start\n",
    "  print(end)\n",
    "input_list = [\"white wedding dress under 1000 for men\"]\n",
    "\n",
    "for i in input_list:\n",
    "  product_inference(i,sentence_embeddings)\n",
    "  print()\n"
   ]
  },
  {
   "cell_type": "code",
   "execution_count": null,
   "id": "7672cbbf-8a3f-40ad-9c42-567c9504269b",
   "metadata": {},
   "outputs": [],
   "source": []
  }
 ],
 "metadata": {
  "kernelspec": {
   "display_name": "Python 3 (ipykernel)",
   "language": "python",
   "name": "python3"
  },
  "language_info": {
   "codemirror_mode": {
    "name": "ipython",
    "version": 3
   },
   "file_extension": ".py",
   "mimetype": "text/x-python",
   "name": "python",
   "nbconvert_exporter": "python",
   "pygments_lexer": "ipython3",
   "version": "3.11.2"
  }
 },
 "nbformat": 4,
 "nbformat_minor": 5
}
